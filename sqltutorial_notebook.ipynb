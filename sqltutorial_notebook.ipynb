{
    "metadata": {
        "kernelspec": {
            "name": "SQL",
            "display_name": "SQL",
            "language": "sql"
        },
        "language_info": {
            "name": "sql",
            "version": ""
        }
    },
    "nbformat_minor": 2,
    "nbformat": 4,
    "cells": [
        {
            "cell_type": "code",
            "source": [
                "CREATE TABLE EmployeeDemographics (\r\n",
                "EmployeeID int,\r\n",
                "FirstaName varchar(50),\r\n",
                "LastName varchar(50),\r\n",
                "Age int,\r\n",
                "Gender varchar(50)\r\n",
                ")"
            ],
            "metadata": {
                "azdata_cell_guid": "ab2951f0-f87a-49ba-b789-1300f02c08ef",
                "language": "sql"
            },
            "outputs": [
                {
                    "output_type": "display_data",
                    "data": {
                        "text/html": "Commands completed successfully."
                    },
                    "metadata": {}
                },
                {
                    "output_type": "display_data",
                    "data": {
                        "text/html": "Total execution time: 00:00:00.012"
                    },
                    "metadata": {}
                }
            ],
            "execution_count": 1
        },
        {
            "cell_type": "code",
            "source": [
                "CREATE TABLE EmployeeSalary (\r\n",
                "EmployeeID int,\r\n",
                "JobTitle varchar(50),\r\n",
                "Salary int\r\n",
                ")"
            ],
            "metadata": {
                "language": "sql",
                "azdata_cell_guid": "f4a88e01-5a4f-4328-8fff-b00bf5c0758f"
            },
            "outputs": [
                {
                    "output_type": "display_data",
                    "data": {
                        "text/html": "Commands completed successfully."
                    },
                    "metadata": {}
                },
                {
                    "output_type": "display_data",
                    "data": {
                        "text/html": "Total execution time: 00:00:00.002"
                    },
                    "metadata": {}
                }
            ],
            "execution_count": 2
        },
        {
            "cell_type": "code",
            "source": [
                "Insert into EmployeeDemographics VALUES\r\n",
                "(1001, 'Jim', 'Halpert', 30, 'Male'),\r\n",
                "(1002, 'Pam', 'Beasley', 30, 'Female'),\r\n",
                "(1003, 'Dwight', 'Schrute', 29, 'Male'),\r\n",
                "(1004, 'Angela', 'Martin', 31, 'Female'),\r\n",
                "(1005, 'Toby', 'Flenderson', 32, 'Male'),\r\n",
                "(1006, 'Michael', 'Scott', 35, 'Male'),\r\n",
                "(1007, 'Meredith', 'Palmer', 32, 'Female'),\r\n",
                "(1008, 'Stanley', 'Hudson', 38, 'Male'),\r\n",
                "(1009, 'Kevin', 'Malone', 31, 'Male')"
            ],
            "metadata": {
                "language": "sql",
                "azdata_cell_guid": "54909b49-affc-47a6-8ddb-46340b0d1129"
            },
            "outputs": [
                {
                    "output_type": "display_data",
                    "data": {
                        "text/html": "(9 rows affected)"
                    },
                    "metadata": {}
                },
                {
                    "output_type": "display_data",
                    "data": {
                        "text/html": "Total execution time: 00:00:00.004"
                    },
                    "metadata": {}
                }
            ],
            "execution_count": 3
        },
        {
            "cell_type": "code",
            "source": [
                "Insert Into EmployeeSalary VALUES\r\n",
                "(1001, 'Salesman', 45000),\r\n",
                "(1002, 'Receptionist', 36000),\r\n",
                "(1003, 'Salesman', 63000),\r\n",
                "(1004, 'Accountant', 47000),\r\n",
                "(1005, 'HR', 50000),\r\n",
                "(1006, 'Regional Manager', 65000),\r\n",
                "(1007, 'Supplier Relations', 41000),\r\n",
                "(1008, 'Salesman', 48000),\r\n",
                "(1009, 'Accountant', 42000)"
            ],
            "metadata": {
                "language": "sql",
                "azdata_cell_guid": "24bf6bf5-1015-499b-8627-6f422355e6b5"
            },
            "outputs": [
                {
                    "output_type": "display_data",
                    "data": {
                        "text/html": "(9 rows affected)"
                    },
                    "metadata": {}
                },
                {
                    "output_type": "display_data",
                    "data": {
                        "text/html": "Total execution time: 00:00:00.002"
                    },
                    "metadata": {}
                }
            ],
            "execution_count": 4
        },
        {
            "cell_type": "code",
            "source": [
                "SELECT *\r\n",
                "FROM SQLTutorial.dbo.EmployeeSalary"
            ],
            "metadata": {
                "language": "sql",
                "azdata_cell_guid": "947a5f11-15b2-4712-83ad-a27877de0f05",
                "tags": []
            },
            "outputs": [
                {
                    "output_type": "display_data",
                    "data": {
                        "text/html": "(9 rows affected)"
                    },
                    "metadata": {}
                },
                {
                    "output_type": "display_data",
                    "data": {
                        "text/html": "Total execution time: 00:00:00.056"
                    },
                    "metadata": {}
                },
                {
                    "output_type": "execute_result",
                    "execution_count": 5,
                    "data": {
                        "application/vnd.dataresource+json": {
                            "schema": {
                                "fields": [
                                    {
                                        "name": "EmployeeID"
                                    },
                                    {
                                        "name": "JobTitle"
                                    },
                                    {
                                        "name": "Salary"
                                    }
                                ]
                            },
                            "data": [
                                {
                                    "EmployeeID": "1001",
                                    "JobTitle": "Salesman",
                                    "Salary": "45000"
                                },
                                {
                                    "EmployeeID": "1002",
                                    "JobTitle": "Receptionist",
                                    "Salary": "36000"
                                },
                                {
                                    "EmployeeID": "1003",
                                    "JobTitle": "Salesman",
                                    "Salary": "63000"
                                },
                                {
                                    "EmployeeID": "1004",
                                    "JobTitle": "Accountant",
                                    "Salary": "47000"
                                },
                                {
                                    "EmployeeID": "1005",
                                    "JobTitle": "HR",
                                    "Salary": "50000"
                                },
                                {
                                    "EmployeeID": "1006",
                                    "JobTitle": "Regional Manager",
                                    "Salary": "65000"
                                },
                                {
                                    "EmployeeID": "1007",
                                    "JobTitle": "Supplier Relations",
                                    "Salary": "41000"
                                },
                                {
                                    "EmployeeID": "1008",
                                    "JobTitle": "Salesman",
                                    "Salary": "48000"
                                },
                                {
                                    "EmployeeID": "1009",
                                    "JobTitle": "Accountant",
                                    "Salary": "42000"
                                }
                            ]
                        },
                        "text/html": "<table><tr><th>EmployeeID</th><th>JobTitle</th><th>Salary</th></tr><tr><td>1001</td><td>Salesman</td><td>45000</td></tr><tr><td>1002</td><td>Receptionist</td><td>36000</td></tr><tr><td>1003</td><td>Salesman</td><td>63000</td></tr><tr><td>1004</td><td>Accountant</td><td>47000</td></tr><tr><td>1005</td><td>HR</td><td>50000</td></tr><tr><td>1006</td><td>Regional Manager</td><td>65000</td></tr><tr><td>1007</td><td>Supplier Relations</td><td>41000</td></tr><tr><td>1008</td><td>Salesman</td><td>48000</td></tr><tr><td>1009</td><td>Accountant</td><td>42000</td></tr></table>"
                    },
                    "metadata": {}
                }
            ],
            "execution_count": 5
        },
        {
            "cell_type": "code",
            "source": [
                "SELECT *\r\n",
                "FROM EmployeeDemographics \r\n",
                "WHERE Age BETWEEN 21 AND 30"
            ],
            "metadata": {
                "language": "sql",
                "azdata_cell_guid": "eea18c23-9e65-48a3-8cad-d08e088cf1fb"
            },
            "outputs": [
                {
                    "output_type": "display_data",
                    "data": {
                        "text/html": "(3 rows affected)"
                    },
                    "metadata": {}
                },
                {
                    "output_type": "display_data",
                    "data": {
                        "text/html": "Total execution time: 00:00:00.011"
                    },
                    "metadata": {}
                },
                {
                    "output_type": "execute_result",
                    "execution_count": 6,
                    "data": {
                        "application/vnd.dataresource+json": {
                            "schema": {
                                "fields": [
                                    {
                                        "name": "EmployeeID"
                                    },
                                    {
                                        "name": "FirstaName"
                                    },
                                    {
                                        "name": "LastName"
                                    },
                                    {
                                        "name": "Age"
                                    },
                                    {
                                        "name": "Gender"
                                    }
                                ]
                            },
                            "data": [
                                {
                                    "EmployeeID": "1001",
                                    "FirstaName": "Jim",
                                    "LastName": "Halpert",
                                    "Age": "30",
                                    "Gender": "Male"
                                },
                                {
                                    "EmployeeID": "1002",
                                    "FirstaName": "Pam",
                                    "LastName": "Beasley",
                                    "Age": "30",
                                    "Gender": "Female"
                                },
                                {
                                    "EmployeeID": "1003",
                                    "FirstaName": "Dwight",
                                    "LastName": "Schrute",
                                    "Age": "29",
                                    "Gender": "Male"
                                }
                            ]
                        },
                        "text/html": "<table><tr><th>EmployeeID</th><th>FirstaName</th><th>LastName</th><th>Age</th><th>Gender</th></tr><tr><td>1001</td><td>Jim</td><td>Halpert</td><td>30</td><td>Male</td></tr><tr><td>1002</td><td>Pam</td><td>Beasley</td><td>30</td><td>Female</td></tr><tr><td>1003</td><td>Dwight</td><td>Schrute</td><td>29</td><td>Male</td></tr></table>"
                    },
                    "metadata": {}
                }
            ],
            "execution_count": 6
        },
        {
            "cell_type": "code",
            "source": [
                "SELECT EmployeeID, Salary \r\n",
                "FROM EmployeeSalary\r\n",
                "WHERE Salary > (SELECT AVG(Salary) FROM EmployeeSalary)"
            ],
            "metadata": {
                "language": "sql",
                "azdata_cell_guid": "2c273a39-4a12-49c7-96bb-3b7d5643825d",
                "tags": []
            },
            "outputs": [
                {
                    "output_type": "display_data",
                    "data": {
                        "text/html": "(3 rows affected)"
                    },
                    "metadata": {}
                },
                {
                    "output_type": "display_data",
                    "data": {
                        "text/html": "Total execution time: 00:00:00.009"
                    },
                    "metadata": {}
                },
                {
                    "output_type": "execute_result",
                    "execution_count": 9,
                    "data": {
                        "application/vnd.dataresource+json": {
                            "schema": {
                                "fields": [
                                    {
                                        "name": "EmployeeID"
                                    },
                                    {
                                        "name": "Salary"
                                    }
                                ]
                            },
                            "data": [
                                {
                                    "EmployeeID": "1003",
                                    "Salary": "63000"
                                },
                                {
                                    "EmployeeID": "1005",
                                    "Salary": "50000"
                                },
                                {
                                    "EmployeeID": "1006",
                                    "Salary": "65000"
                                }
                            ]
                        },
                        "text/html": "<table><tr><th>EmployeeID</th><th>Salary</th></tr><tr><td>1003</td><td>63000</td></tr><tr><td>1005</td><td>50000</td></tr><tr><td>1006</td><td>65000</td></tr></table>"
                    },
                    "metadata": {}
                }
            ],
            "execution_count": 9
        },
        {
            "cell_type": "code",
            "source": [
                "SELECT Gender, COUNT(EmployeeID) as Total\r\n",
                "FROM EmployeeDemographics\r\n",
                "GROUP BY Gender\r\n",
                "ORDER BY Total DESC"
            ],
            "metadata": {
                "language": "sql",
                "azdata_cell_guid": "e0a7c399-6714-4971-a364-a5971ca30e02"
            },
            "outputs": [
                {
                    "output_type": "display_data",
                    "data": {
                        "text/html": "(2 rows affected)"
                    },
                    "metadata": {}
                },
                {
                    "output_type": "display_data",
                    "data": {
                        "text/html": "Total execution time: 00:00:00.008"
                    },
                    "metadata": {}
                },
                {
                    "output_type": "execute_result",
                    "execution_count": 6,
                    "data": {
                        "application/vnd.dataresource+json": {
                            "schema": {
                                "fields": [
                                    {
                                        "name": "Gender"
                                    },
                                    {
                                        "name": "Total"
                                    }
                                ]
                            },
                            "data": [
                                {
                                    "Gender": "Male",
                                    "Total": "6"
                                },
                                {
                                    "Gender": "Female",
                                    "Total": "3"
                                }
                            ]
                        },
                        "text/html": "<table><tr><th>Gender</th><th>Total</th></tr><tr><td>Male</td><td>6</td></tr><tr><td>Female</td><td>3</td></tr></table>"
                    },
                    "metadata": {}
                }
            ],
            "execution_count": 6
        },
        {
            "cell_type": "code",
            "source": [
                "SELECT Gender, Age, COUNT(EmployeeID) as Total\r\n",
                "FROM EmployeeDemographics\r\n",
                "GROUP BY Gender, Age"
            ],
            "metadata": {
                "language": "sql",
                "azdata_cell_guid": "0982b3b9-5716-4ddb-9e8d-b144e36e5181"
            },
            "outputs": [
                {
                    "output_type": "display_data",
                    "data": {
                        "text/html": "(9 rows affected)"
                    },
                    "metadata": {}
                },
                {
                    "output_type": "display_data",
                    "data": {
                        "text/html": "Total execution time: 00:00:00.003"
                    },
                    "metadata": {}
                },
                {
                    "output_type": "execute_result",
                    "execution_count": 5,
                    "data": {
                        "application/vnd.dataresource+json": {
                            "schema": {
                                "fields": [
                                    {
                                        "name": "Gender"
                                    },
                                    {
                                        "name": "Age"
                                    },
                                    {
                                        "name": "Total"
                                    }
                                ]
                            },
                            "data": [
                                {
                                    "Gender": "Male",
                                    "Age": "29",
                                    "Total": "1"
                                },
                                {
                                    "Gender": "Female",
                                    "Age": "30",
                                    "Total": "1"
                                },
                                {
                                    "Gender": "Male",
                                    "Age": "30",
                                    "Total": "1"
                                },
                                {
                                    "Gender": "Female",
                                    "Age": "31",
                                    "Total": "1"
                                },
                                {
                                    "Gender": "Male",
                                    "Age": "31",
                                    "Total": "1"
                                },
                                {
                                    "Gender": "Female",
                                    "Age": "32",
                                    "Total": "1"
                                },
                                {
                                    "Gender": "Male",
                                    "Age": "32",
                                    "Total": "1"
                                },
                                {
                                    "Gender": "Male",
                                    "Age": "35",
                                    "Total": "1"
                                },
                                {
                                    "Gender": "Male",
                                    "Age": "38",
                                    "Total": "1"
                                }
                            ]
                        },
                        "text/html": "<table><tr><th>Gender</th><th>Age</th><th>Total</th></tr><tr><td>Male</td><td>29</td><td>1</td></tr><tr><td>Female</td><td>30</td><td>1</td></tr><tr><td>Male</td><td>30</td><td>1</td></tr><tr><td>Female</td><td>31</td><td>1</td></tr><tr><td>Male</td><td>31</td><td>1</td></tr><tr><td>Female</td><td>32</td><td>1</td></tr><tr><td>Male</td><td>32</td><td>1</td></tr><tr><td>Male</td><td>35</td><td>1</td></tr><tr><td>Male</td><td>38</td><td>1</td></tr></table>"
                    },
                    "metadata": {}
                }
            ],
            "execution_count": 5
        },
        {
            "cell_type": "code",
            "source": [
                "SELECT *\r\n",
                "FROM EmployeeDemographics\r\n",
                "ORDER BY Age DESC, Gender DESC"
            ],
            "metadata": {
                "language": "sql",
                "azdata_cell_guid": "34c2ed72-ac60-4a56-8103-88fa68916f38"
            },
            "outputs": [
                {
                    "output_type": "display_data",
                    "data": {
                        "text/html": "(9 rows affected)"
                    },
                    "metadata": {}
                },
                {
                    "output_type": "display_data",
                    "data": {
                        "text/html": "Total execution time: 00:00:00.008"
                    },
                    "metadata": {}
                },
                {
                    "output_type": "execute_result",
                    "execution_count": 10,
                    "data": {
                        "application/vnd.dataresource+json": {
                            "schema": {
                                "fields": [
                                    {
                                        "name": "EmployeeID"
                                    },
                                    {
                                        "name": "FirstaName"
                                    },
                                    {
                                        "name": "LastName"
                                    },
                                    {
                                        "name": "Age"
                                    },
                                    {
                                        "name": "Gender"
                                    }
                                ]
                            },
                            "data": [
                                {
                                    "EmployeeID": "1008",
                                    "FirstaName": "Stanley",
                                    "LastName": "Hudson",
                                    "Age": "38",
                                    "Gender": "Male"
                                },
                                {
                                    "EmployeeID": "1006",
                                    "FirstaName": "Michael",
                                    "LastName": "Scott",
                                    "Age": "35",
                                    "Gender": "Male"
                                },
                                {
                                    "EmployeeID": "1005",
                                    "FirstaName": "Toby",
                                    "LastName": "Flenderson",
                                    "Age": "32",
                                    "Gender": "Male"
                                },
                                {
                                    "EmployeeID": "1007",
                                    "FirstaName": "Meredith",
                                    "LastName": "Palmer",
                                    "Age": "32",
                                    "Gender": "Female"
                                },
                                {
                                    "EmployeeID": "1009",
                                    "FirstaName": "Kevin",
                                    "LastName": "Malone",
                                    "Age": "31",
                                    "Gender": "Male"
                                },
                                {
                                    "EmployeeID": "1004",
                                    "FirstaName": "Angela",
                                    "LastName": "Martin",
                                    "Age": "31",
                                    "Gender": "Female"
                                },
                                {
                                    "EmployeeID": "1001",
                                    "FirstaName": "Jim",
                                    "LastName": "Halpert",
                                    "Age": "30",
                                    "Gender": "Male"
                                },
                                {
                                    "EmployeeID": "1002",
                                    "FirstaName": "Pam",
                                    "LastName": "Beasley",
                                    "Age": "30",
                                    "Gender": "Female"
                                },
                                {
                                    "EmployeeID": "1003",
                                    "FirstaName": "Dwight",
                                    "LastName": "Schrute",
                                    "Age": "29",
                                    "Gender": "Male"
                                }
                            ]
                        },
                        "text/html": "<table><tr><th>EmployeeID</th><th>FirstaName</th><th>LastName</th><th>Age</th><th>Gender</th></tr><tr><td>1008</td><td>Stanley</td><td>Hudson</td><td>38</td><td>Male</td></tr><tr><td>1006</td><td>Michael</td><td>Scott</td><td>35</td><td>Male</td></tr><tr><td>1005</td><td>Toby</td><td>Flenderson</td><td>32</td><td>Male</td></tr><tr><td>1007</td><td>Meredith</td><td>Palmer</td><td>32</td><td>Female</td></tr><tr><td>1009</td><td>Kevin</td><td>Malone</td><td>31</td><td>Male</td></tr><tr><td>1004</td><td>Angela</td><td>Martin</td><td>31</td><td>Female</td></tr><tr><td>1001</td><td>Jim</td><td>Halpert</td><td>30</td><td>Male</td></tr><tr><td>1002</td><td>Pam</td><td>Beasley</td><td>30</td><td>Female</td></tr><tr><td>1003</td><td>Dwight</td><td>Schrute</td><td>29</td><td>Male</td></tr></table>"
                    },
                    "metadata": {}
                }
            ],
            "execution_count": 10
        },
        {
            "cell_type": "code",
            "source": [
                "SELECT *\r\n",
                "FROM EmployeeDemographics\r\n",
                "ORDER BY 4 DESC, 5 DESC"
            ],
            "metadata": {
                "language": "sql",
                "azdata_cell_guid": "0313a718-e27b-4692-84d8-0cfb7861a03a"
            },
            "outputs": [
                {
                    "output_type": "display_data",
                    "data": {
                        "text/html": "(9 rows affected)"
                    },
                    "metadata": {}
                },
                {
                    "output_type": "display_data",
                    "data": {
                        "text/html": "Total execution time: 00:00:00.004"
                    },
                    "metadata": {}
                },
                {
                    "output_type": "execute_result",
                    "execution_count": 11,
                    "data": {
                        "application/vnd.dataresource+json": {
                            "schema": {
                                "fields": [
                                    {
                                        "name": "EmployeeID"
                                    },
                                    {
                                        "name": "FirstaName"
                                    },
                                    {
                                        "name": "LastName"
                                    },
                                    {
                                        "name": "Age"
                                    },
                                    {
                                        "name": "Gender"
                                    }
                                ]
                            },
                            "data": [
                                {
                                    "EmployeeID": "1008",
                                    "FirstaName": "Stanley",
                                    "LastName": "Hudson",
                                    "Age": "38",
                                    "Gender": "Male"
                                },
                                {
                                    "EmployeeID": "1006",
                                    "FirstaName": "Michael",
                                    "LastName": "Scott",
                                    "Age": "35",
                                    "Gender": "Male"
                                },
                                {
                                    "EmployeeID": "1005",
                                    "FirstaName": "Toby",
                                    "LastName": "Flenderson",
                                    "Age": "32",
                                    "Gender": "Male"
                                },
                                {
                                    "EmployeeID": "1007",
                                    "FirstaName": "Meredith",
                                    "LastName": "Palmer",
                                    "Age": "32",
                                    "Gender": "Female"
                                },
                                {
                                    "EmployeeID": "1009",
                                    "FirstaName": "Kevin",
                                    "LastName": "Malone",
                                    "Age": "31",
                                    "Gender": "Male"
                                },
                                {
                                    "EmployeeID": "1004",
                                    "FirstaName": "Angela",
                                    "LastName": "Martin",
                                    "Age": "31",
                                    "Gender": "Female"
                                },
                                {
                                    "EmployeeID": "1001",
                                    "FirstaName": "Jim",
                                    "LastName": "Halpert",
                                    "Age": "30",
                                    "Gender": "Male"
                                },
                                {
                                    "EmployeeID": "1002",
                                    "FirstaName": "Pam",
                                    "LastName": "Beasley",
                                    "Age": "30",
                                    "Gender": "Female"
                                },
                                {
                                    "EmployeeID": "1003",
                                    "FirstaName": "Dwight",
                                    "LastName": "Schrute",
                                    "Age": "29",
                                    "Gender": "Male"
                                }
                            ]
                        },
                        "text/html": "<table><tr><th>EmployeeID</th><th>FirstaName</th><th>LastName</th><th>Age</th><th>Gender</th></tr><tr><td>1008</td><td>Stanley</td><td>Hudson</td><td>38</td><td>Male</td></tr><tr><td>1006</td><td>Michael</td><td>Scott</td><td>35</td><td>Male</td></tr><tr><td>1005</td><td>Toby</td><td>Flenderson</td><td>32</td><td>Male</td></tr><tr><td>1007</td><td>Meredith</td><td>Palmer</td><td>32</td><td>Female</td></tr><tr><td>1009</td><td>Kevin</td><td>Malone</td><td>31</td><td>Male</td></tr><tr><td>1004</td><td>Angela</td><td>Martin</td><td>31</td><td>Female</td></tr><tr><td>1001</td><td>Jim</td><td>Halpert</td><td>30</td><td>Male</td></tr><tr><td>1002</td><td>Pam</td><td>Beasley</td><td>30</td><td>Female</td></tr><tr><td>1003</td><td>Dwight</td><td>Schrute</td><td>29</td><td>Male</td></tr></table>"
                    },
                    "metadata": {}
                }
            ],
            "execution_count": 11
        },
        {
            "cell_type": "markdown",
            "source": [
                "# **Join**"
            ],
            "metadata": {
                "language": "sql",
                "azdata_cell_guid": "07de59e1-b94b-4721-bc2b-bb0e33dfaaca"
            },
            "attachments": {}
        },
        {
            "cell_type": "code",
            "source": [
                "SELECT *\r\n",
                "FROM SQLTutorial.dbo.EmployeeDemographics t1\r\n",
                "INNER JOIN SQLTutorial.dbo.EmployeeSalary t2\r\n",
                "ON t1.EmployeeID = t2.EmployeeID"
            ],
            "metadata": {
                "language": "sql",
                "azdata_cell_guid": "6cf1695d-2ec1-4416-af16-d0cb582dd9c6"
            },
            "outputs": [
                {
                    "output_type": "display_data",
                    "data": {
                        "text/html": "(9 rows affected)"
                    },
                    "metadata": {}
                },
                {
                    "output_type": "display_data",
                    "data": {
                        "text/html": "Total execution time: 00:00:00.044"
                    },
                    "metadata": {}
                },
                {
                    "output_type": "execute_result",
                    "metadata": {},
                    "execution_count": 1,
                    "data": {
                        "application/vnd.dataresource+json": {
                            "schema": {
                                "fields": [
                                    {
                                        "name": "EmployeeID"
                                    },
                                    {
                                        "name": "FirstaName"
                                    },
                                    {
                                        "name": "LastName"
                                    },
                                    {
                                        "name": "Age"
                                    },
                                    {
                                        "name": "Gender"
                                    },
                                    {
                                        "name": "EmployeeID"
                                    },
                                    {
                                        "name": "JobTitle"
                                    },
                                    {
                                        "name": "Salary"
                                    }
                                ]
                            },
                            "data": [
                                {
                                    "EmployeeID": "1001",
                                    "FirstaName": "Jim",
                                    "LastName": "Halpert",
                                    "Age": "30",
                                    "Gender": "Male",
                                    "JobTitle": "Salesman",
                                    "Salary": "45000"
                                },
                                {
                                    "EmployeeID": "1002",
                                    "FirstaName": "Pam",
                                    "LastName": "Beasley",
                                    "Age": "30",
                                    "Gender": "Female",
                                    "JobTitle": "Receptionist",
                                    "Salary": "36000"
                                },
                                {
                                    "EmployeeID": "1003",
                                    "FirstaName": "Dwight",
                                    "LastName": "Schrute",
                                    "Age": "29",
                                    "Gender": "Male",
                                    "JobTitle": "Salesman",
                                    "Salary": "63000"
                                },
                                {
                                    "EmployeeID": "1004",
                                    "FirstaName": "Angela",
                                    "LastName": "Martin",
                                    "Age": "31",
                                    "Gender": "Female",
                                    "JobTitle": "Accountant",
                                    "Salary": "47000"
                                },
                                {
                                    "EmployeeID": "1005",
                                    "FirstaName": "Toby",
                                    "LastName": "Flenderson",
                                    "Age": "32",
                                    "Gender": "Male",
                                    "JobTitle": "HR",
                                    "Salary": "50000"
                                },
                                {
                                    "EmployeeID": "1006",
                                    "FirstaName": "Michael",
                                    "LastName": "Scott",
                                    "Age": "35",
                                    "Gender": "Male",
                                    "JobTitle": "Regional Manager",
                                    "Salary": "65000"
                                },
                                {
                                    "EmployeeID": "1007",
                                    "FirstaName": "Meredith",
                                    "LastName": "Palmer",
                                    "Age": "32",
                                    "Gender": "Female",
                                    "JobTitle": "Supplier Relations",
                                    "Salary": "41000"
                                },
                                {
                                    "EmployeeID": "1008",
                                    "FirstaName": "Stanley",
                                    "LastName": "Hudson",
                                    "Age": "38",
                                    "Gender": "Male",
                                    "JobTitle": "Salesman",
                                    "Salary": "48000"
                                },
                                {
                                    "EmployeeID": "1009",
                                    "FirstaName": "Kevin",
                                    "LastName": "Malone",
                                    "Age": "31",
                                    "Gender": "Male",
                                    "JobTitle": "Accountant",
                                    "Salary": "42000"
                                }
                            ]
                        },
                        "text/html": [
                            "<table>",
                            "<tr><th>EmployeeID</th><th>FirstaName</th><th>LastName</th><th>Age</th><th>Gender</th><th>EmployeeID</th><th>JobTitle</th><th>Salary</th></tr>",
                            "<tr><td>1001</td><td>Jim</td><td>Halpert</td><td>30</td><td>Male</td><td>1001</td><td>Salesman</td><td>45000</td></tr>",
                            "<tr><td>1002</td><td>Pam</td><td>Beasley</td><td>30</td><td>Female</td><td>1002</td><td>Receptionist</td><td>36000</td></tr>",
                            "<tr><td>1003</td><td>Dwight</td><td>Schrute</td><td>29</td><td>Male</td><td>1003</td><td>Salesman</td><td>63000</td></tr>",
                            "<tr><td>1004</td><td>Angela</td><td>Martin</td><td>31</td><td>Female</td><td>1004</td><td>Accountant</td><td>47000</td></tr>",
                            "<tr><td>1005</td><td>Toby</td><td>Flenderson</td><td>32</td><td>Male</td><td>1005</td><td>HR</td><td>50000</td></tr>",
                            "<tr><td>1006</td><td>Michael</td><td>Scott</td><td>35</td><td>Male</td><td>1006</td><td>Regional Manager</td><td>65000</td></tr>",
                            "<tr><td>1007</td><td>Meredith</td><td>Palmer</td><td>32</td><td>Female</td><td>1007</td><td>Supplier Relations</td><td>41000</td></tr>",
                            "<tr><td>1008</td><td>Stanley</td><td>Hudson</td><td>38</td><td>Male</td><td>1008</td><td>Salesman</td><td>48000</td></tr>",
                            "<tr><td>1009</td><td>Kevin</td><td>Malone</td><td>31</td><td>Male</td><td>1009</td><td>Accountant</td><td>42000</td></tr>",
                            "</table>"
                        ]
                    }
                }
            ],
            "execution_count": 1
        },
        {
            "cell_type": "code",
            "source": [
                "SELECT *\r\n",
                "FROM SQLTutorial.dbo.EmployeeDemographics t1\r\n",
                "FULL OUTER JOIN SQLTutorial.dbo.EmployeeSalary t2\r\n",
                "ON t1.EmployeeID = t2.EmployeeID"
            ],
            "metadata": {
                "language": "sql",
                "azdata_cell_guid": "3644c17f-6450-4dd0-9da2-78ffce1f4c9f"
            },
            "outputs": [
                {
                    "output_type": "display_data",
                    "data": {
                        "text/html": "(12 rows affected)"
                    },
                    "metadata": {}
                },
                {
                    "output_type": "display_data",
                    "data": {
                        "text/html": "Total execution time: 00:00:00.010"
                    },
                    "metadata": {}
                },
                {
                    "output_type": "execute_result",
                    "metadata": {},
                    "execution_count": 2,
                    "data": {
                        "application/vnd.dataresource+json": {
                            "schema": {
                                "fields": [
                                    {
                                        "name": "EmployeeID"
                                    },
                                    {
                                        "name": "FirstaName"
                                    },
                                    {
                                        "name": "LastName"
                                    },
                                    {
                                        "name": "Age"
                                    },
                                    {
                                        "name": "Gender"
                                    },
                                    {
                                        "name": "EmployeeID"
                                    },
                                    {
                                        "name": "JobTitle"
                                    },
                                    {
                                        "name": "Salary"
                                    }
                                ]
                            },
                            "data": [
                                {
                                    "EmployeeID": "1001",
                                    "FirstaName": "Jim",
                                    "LastName": "Halpert",
                                    "Age": "30",
                                    "Gender": "Male",
                                    "JobTitle": "Salesman",
                                    "Salary": "45000"
                                },
                                {
                                    "EmployeeID": "1002",
                                    "FirstaName": "Pam",
                                    "LastName": "Beasley",
                                    "Age": "30",
                                    "Gender": "Female",
                                    "JobTitle": "Receptionist",
                                    "Salary": "36000"
                                },
                                {
                                    "EmployeeID": "1003",
                                    "FirstaName": "Dwight",
                                    "LastName": "Schrute",
                                    "Age": "29",
                                    "Gender": "Male",
                                    "JobTitle": "Salesman",
                                    "Salary": "63000"
                                },
                                {
                                    "EmployeeID": "1004",
                                    "FirstaName": "Angela",
                                    "LastName": "Martin",
                                    "Age": "31",
                                    "Gender": "Female",
                                    "JobTitle": "Accountant",
                                    "Salary": "47000"
                                },
                                {
                                    "EmployeeID": "1005",
                                    "FirstaName": "Toby",
                                    "LastName": "Flenderson",
                                    "Age": "32",
                                    "Gender": "Male",
                                    "JobTitle": "HR",
                                    "Salary": "50000"
                                },
                                {
                                    "EmployeeID": "1006",
                                    "FirstaName": "Michael",
                                    "LastName": "Scott",
                                    "Age": "35",
                                    "Gender": "Male",
                                    "JobTitle": "Regional Manager",
                                    "Salary": "65000"
                                },
                                {
                                    "EmployeeID": "1007",
                                    "FirstaName": "Meredith",
                                    "LastName": "Palmer",
                                    "Age": "32",
                                    "Gender": "Female",
                                    "JobTitle": "Supplier Relations",
                                    "Salary": "41000"
                                },
                                {
                                    "EmployeeID": "1008",
                                    "FirstaName": "Stanley",
                                    "LastName": "Hudson",
                                    "Age": "38",
                                    "Gender": "Male",
                                    "JobTitle": "Salesman",
                                    "Salary": "48000"
                                },
                                {
                                    "EmployeeID": "1009",
                                    "FirstaName": "Kevin",
                                    "LastName": "Malone",
                                    "Age": "31",
                                    "Gender": "Male",
                                    "JobTitle": "Accountant",
                                    "Salary": "42000"
                                },
                                {
                                    "EmployeeID": "NULL",
                                    "FirstaName": "Ryan",
                                    "LastName": "Howard",
                                    "Age": "26",
                                    "Gender": "Male",
                                    "JobTitle": "NULL",
                                    "Salary": "NULL"
                                },
                                {
                                    "EmployeeID": "NULL",
                                    "FirstaName": "Holly",
                                    "LastName": "Flax",
                                    "Age": "31",
                                    "Gender": "Female",
                                    "JobTitle": "NULL",
                                    "Salary": "NULL"
                                },
                                {
                                    "EmployeeID": "NULL",
                                    "FirstaName": "Darryl",
                                    "LastName": "Philbin",
                                    "Age": "NULL",
                                    "Gender": "Male",
                                    "JobTitle": "NULL",
                                    "Salary": "NULL"
                                }
                            ]
                        },
                        "text/html": [
                            "<table>",
                            "<tr><th>EmployeeID</th><th>FirstaName</th><th>LastName</th><th>Age</th><th>Gender</th><th>EmployeeID</th><th>JobTitle</th><th>Salary</th></tr>",
                            "<tr><td>1001</td><td>Jim</td><td>Halpert</td><td>30</td><td>Male</td><td>1001</td><td>Salesman</td><td>45000</td></tr>",
                            "<tr><td>1002</td><td>Pam</td><td>Beasley</td><td>30</td><td>Female</td><td>1002</td><td>Receptionist</td><td>36000</td></tr>",
                            "<tr><td>1003</td><td>Dwight</td><td>Schrute</td><td>29</td><td>Male</td><td>1003</td><td>Salesman</td><td>63000</td></tr>",
                            "<tr><td>1004</td><td>Angela</td><td>Martin</td><td>31</td><td>Female</td><td>1004</td><td>Accountant</td><td>47000</td></tr>",
                            "<tr><td>1005</td><td>Toby</td><td>Flenderson</td><td>32</td><td>Male</td><td>1005</td><td>HR</td><td>50000</td></tr>",
                            "<tr><td>1006</td><td>Michael</td><td>Scott</td><td>35</td><td>Male</td><td>1006</td><td>Regional Manager</td><td>65000</td></tr>",
                            "<tr><td>1007</td><td>Meredith</td><td>Palmer</td><td>32</td><td>Female</td><td>1007</td><td>Supplier Relations</td><td>41000</td></tr>",
                            "<tr><td>1008</td><td>Stanley</td><td>Hudson</td><td>38</td><td>Male</td><td>1008</td><td>Salesman</td><td>48000</td></tr>",
                            "<tr><td>1009</td><td>Kevin</td><td>Malone</td><td>31</td><td>Male</td><td>1009</td><td>Accountant</td><td>42000</td></tr>",
                            "<tr><td>1011</td><td>Ryan</td><td>Howard</td><td>26</td><td>Male</td><td>NULL</td><td>NULL</td><td>NULL</td></tr>",
                            "<tr><td>1012</td><td>Holly</td><td>Flax</td><td>31</td><td>Female</td><td>NULL</td><td>NULL</td><td>NULL</td></tr>",
                            "<tr><td>1013</td><td>Darryl</td><td>Philbin</td><td>NULL</td><td>Male</td><td>NULL</td><td>NULL</td><td>NULL</td></tr>",
                            "</table>"
                        ]
                    }
                }
            ],
            "execution_count": 2
        },
        {
            "cell_type": "code",
            "source": [
                "SELECT *\r\n",
                "FROM SQLTutorial.dbo.EmployeeDemographics t1\r\n",
                "LEFT JOIN SQLTutorial.dbo.EmployeeSalary t2\r\n",
                "ON t1.EmployeeID = t2.EmployeeID"
            ],
            "metadata": {
                "language": "sql",
                "azdata_cell_guid": "fb2878d0-33e6-462f-aa73-61beb2dd6bc5"
            },
            "outputs": [
                {
                    "output_type": "display_data",
                    "data": {
                        "text/html": "(12 rows affected)"
                    },
                    "metadata": {}
                },
                {
                    "output_type": "display_data",
                    "data": {
                        "text/html": "Total execution time: 00:00:00.004"
                    },
                    "metadata": {}
                },
                {
                    "output_type": "execute_result",
                    "metadata": {},
                    "execution_count": 3,
                    "data": {
                        "application/vnd.dataresource+json": {
                            "schema": {
                                "fields": [
                                    {
                                        "name": "EmployeeID"
                                    },
                                    {
                                        "name": "FirstaName"
                                    },
                                    {
                                        "name": "LastName"
                                    },
                                    {
                                        "name": "Age"
                                    },
                                    {
                                        "name": "Gender"
                                    },
                                    {
                                        "name": "EmployeeID"
                                    },
                                    {
                                        "name": "JobTitle"
                                    },
                                    {
                                        "name": "Salary"
                                    }
                                ]
                            },
                            "data": [
                                {
                                    "EmployeeID": "1001",
                                    "FirstaName": "Jim",
                                    "LastName": "Halpert",
                                    "Age": "30",
                                    "Gender": "Male",
                                    "JobTitle": "Salesman",
                                    "Salary": "45000"
                                },
                                {
                                    "EmployeeID": "1002",
                                    "FirstaName": "Pam",
                                    "LastName": "Beasley",
                                    "Age": "30",
                                    "Gender": "Female",
                                    "JobTitle": "Receptionist",
                                    "Salary": "36000"
                                },
                                {
                                    "EmployeeID": "1003",
                                    "FirstaName": "Dwight",
                                    "LastName": "Schrute",
                                    "Age": "29",
                                    "Gender": "Male",
                                    "JobTitle": "Salesman",
                                    "Salary": "63000"
                                },
                                {
                                    "EmployeeID": "1004",
                                    "FirstaName": "Angela",
                                    "LastName": "Martin",
                                    "Age": "31",
                                    "Gender": "Female",
                                    "JobTitle": "Accountant",
                                    "Salary": "47000"
                                },
                                {
                                    "EmployeeID": "1005",
                                    "FirstaName": "Toby",
                                    "LastName": "Flenderson",
                                    "Age": "32",
                                    "Gender": "Male",
                                    "JobTitle": "HR",
                                    "Salary": "50000"
                                },
                                {
                                    "EmployeeID": "1006",
                                    "FirstaName": "Michael",
                                    "LastName": "Scott",
                                    "Age": "35",
                                    "Gender": "Male",
                                    "JobTitle": "Regional Manager",
                                    "Salary": "65000"
                                },
                                {
                                    "EmployeeID": "1007",
                                    "FirstaName": "Meredith",
                                    "LastName": "Palmer",
                                    "Age": "32",
                                    "Gender": "Female",
                                    "JobTitle": "Supplier Relations",
                                    "Salary": "41000"
                                },
                                {
                                    "EmployeeID": "1008",
                                    "FirstaName": "Stanley",
                                    "LastName": "Hudson",
                                    "Age": "38",
                                    "Gender": "Male",
                                    "JobTitle": "Salesman",
                                    "Salary": "48000"
                                },
                                {
                                    "EmployeeID": "1009",
                                    "FirstaName": "Kevin",
                                    "LastName": "Malone",
                                    "Age": "31",
                                    "Gender": "Male",
                                    "JobTitle": "Accountant",
                                    "Salary": "42000"
                                },
                                {
                                    "EmployeeID": "NULL",
                                    "FirstaName": "Ryan",
                                    "LastName": "Howard",
                                    "Age": "26",
                                    "Gender": "Male",
                                    "JobTitle": "NULL",
                                    "Salary": "NULL"
                                },
                                {
                                    "EmployeeID": "NULL",
                                    "FirstaName": "Holly",
                                    "LastName": "Flax",
                                    "Age": "31",
                                    "Gender": "Female",
                                    "JobTitle": "NULL",
                                    "Salary": "NULL"
                                },
                                {
                                    "EmployeeID": "NULL",
                                    "FirstaName": "Darryl",
                                    "LastName": "Philbin",
                                    "Age": "NULL",
                                    "Gender": "Male",
                                    "JobTitle": "NULL",
                                    "Salary": "NULL"
                                }
                            ]
                        },
                        "text/html": [
                            "<table>",
                            "<tr><th>EmployeeID</th><th>FirstaName</th><th>LastName</th><th>Age</th><th>Gender</th><th>EmployeeID</th><th>JobTitle</th><th>Salary</th></tr>",
                            "<tr><td>1001</td><td>Jim</td><td>Halpert</td><td>30</td><td>Male</td><td>1001</td><td>Salesman</td><td>45000</td></tr>",
                            "<tr><td>1002</td><td>Pam</td><td>Beasley</td><td>30</td><td>Female</td><td>1002</td><td>Receptionist</td><td>36000</td></tr>",
                            "<tr><td>1003</td><td>Dwight</td><td>Schrute</td><td>29</td><td>Male</td><td>1003</td><td>Salesman</td><td>63000</td></tr>",
                            "<tr><td>1004</td><td>Angela</td><td>Martin</td><td>31</td><td>Female</td><td>1004</td><td>Accountant</td><td>47000</td></tr>",
                            "<tr><td>1005</td><td>Toby</td><td>Flenderson</td><td>32</td><td>Male</td><td>1005</td><td>HR</td><td>50000</td></tr>",
                            "<tr><td>1006</td><td>Michael</td><td>Scott</td><td>35</td><td>Male</td><td>1006</td><td>Regional Manager</td><td>65000</td></tr>",
                            "<tr><td>1007</td><td>Meredith</td><td>Palmer</td><td>32</td><td>Female</td><td>1007</td><td>Supplier Relations</td><td>41000</td></tr>",
                            "<tr><td>1008</td><td>Stanley</td><td>Hudson</td><td>38</td><td>Male</td><td>1008</td><td>Salesman</td><td>48000</td></tr>",
                            "<tr><td>1009</td><td>Kevin</td><td>Malone</td><td>31</td><td>Male</td><td>1009</td><td>Accountant</td><td>42000</td></tr>",
                            "<tr><td>1011</td><td>Ryan</td><td>Howard</td><td>26</td><td>Male</td><td>NULL</td><td>NULL</td><td>NULL</td></tr>",
                            "<tr><td>1012</td><td>Holly</td><td>Flax</td><td>31</td><td>Female</td><td>NULL</td><td>NULL</td><td>NULL</td></tr>",
                            "<tr><td>1013</td><td>Darryl</td><td>Philbin</td><td>NULL</td><td>Male</td><td>NULL</td><td>NULL</td><td>NULL</td></tr>",
                            "</table>"
                        ]
                    }
                }
            ],
            "execution_count": 3
        },
        {
            "cell_type": "code",
            "source": [
                "SELECT t1.EmployeeID, FirstaName, LastName, JobTitle, Salary\r\n",
                "FROM SQLTutorial.dbo.EmployeeDemographics t1\r\n",
                "INNER JOIN SQLTutorial.dbo.EmployeeSalary t2\r\n",
                "ON t1.EmployeeID = t2.EmployeeID\r\n",
                "ORDER BY Salary DESC"
            ],
            "metadata": {
                "language": "sql",
                "azdata_cell_guid": "7bd39fb5-83e6-46fb-80f5-ffa2bcbc3ce8"
            },
            "outputs": [
                {
                    "output_type": "display_data",
                    "data": {
                        "text/html": "(9 rows affected)"
                    },
                    "metadata": {}
                },
                {
                    "output_type": "display_data",
                    "data": {
                        "text/html": "Total execution time: 00:00:00.008"
                    },
                    "metadata": {}
                },
                {
                    "output_type": "execute_result",
                    "execution_count": 18,
                    "data": {
                        "application/vnd.dataresource+json": {
                            "schema": {
                                "fields": [
                                    {
                                        "name": "EmployeeID"
                                    },
                                    {
                                        "name": "FirstaName"
                                    },
                                    {
                                        "name": "LastName"
                                    },
                                    {
                                        "name": "JobTitle"
                                    },
                                    {
                                        "name": "Salary"
                                    }
                                ]
                            },
                            "data": [
                                {
                                    "EmployeeID": "1006",
                                    "FirstaName": "Michael",
                                    "LastName": "Scott",
                                    "JobTitle": "Regional Manager",
                                    "Salary": "65000"
                                },
                                {
                                    "EmployeeID": "1003",
                                    "FirstaName": "Dwight",
                                    "LastName": "Schrute",
                                    "JobTitle": "Salesman",
                                    "Salary": "63000"
                                },
                                {
                                    "EmployeeID": "1005",
                                    "FirstaName": "Toby",
                                    "LastName": "Flenderson",
                                    "JobTitle": "HR",
                                    "Salary": "50000"
                                },
                                {
                                    "EmployeeID": "1008",
                                    "FirstaName": "Stanley",
                                    "LastName": "Hudson",
                                    "JobTitle": "Salesman",
                                    "Salary": "48000"
                                },
                                {
                                    "EmployeeID": "1004",
                                    "FirstaName": "Angela",
                                    "LastName": "Martin",
                                    "JobTitle": "Accountant",
                                    "Salary": "47000"
                                },
                                {
                                    "EmployeeID": "1001",
                                    "FirstaName": "Jim",
                                    "LastName": "Halpert",
                                    "JobTitle": "Salesman",
                                    "Salary": "45000"
                                },
                                {
                                    "EmployeeID": "1009",
                                    "FirstaName": "Kevin",
                                    "LastName": "Malone",
                                    "JobTitle": "Accountant",
                                    "Salary": "42000"
                                },
                                {
                                    "EmployeeID": "1007",
                                    "FirstaName": "Meredith",
                                    "LastName": "Palmer",
                                    "JobTitle": "Supplier Relations",
                                    "Salary": "41000"
                                },
                                {
                                    "EmployeeID": "1002",
                                    "FirstaName": "Pam",
                                    "LastName": "Beasley",
                                    "JobTitle": "Receptionist",
                                    "Salary": "36000"
                                }
                            ]
                        },
                        "text/html": "<table><tr><th>EmployeeID</th><th>FirstaName</th><th>LastName</th><th>JobTitle</th><th>Salary</th></tr><tr><td>1006</td><td>Michael</td><td>Scott</td><td>Regional Manager</td><td>65000</td></tr><tr><td>1003</td><td>Dwight</td><td>Schrute</td><td>Salesman</td><td>63000</td></tr><tr><td>1005</td><td>Toby</td><td>Flenderson</td><td>HR</td><td>50000</td></tr><tr><td>1008</td><td>Stanley</td><td>Hudson</td><td>Salesman</td><td>48000</td></tr><tr><td>1004</td><td>Angela</td><td>Martin</td><td>Accountant</td><td>47000</td></tr><tr><td>1001</td><td>Jim</td><td>Halpert</td><td>Salesman</td><td>45000</td></tr><tr><td>1009</td><td>Kevin</td><td>Malone</td><td>Accountant</td><td>42000</td></tr><tr><td>1007</td><td>Meredith</td><td>Palmer</td><td>Supplier Relations</td><td>41000</td></tr><tr><td>1002</td><td>Pam</td><td>Beasley</td><td>Receptionist</td><td>36000</td></tr></table>"
                    },
                    "metadata": {}
                }
            ],
            "execution_count": 18
        },
        {
            "cell_type": "code",
            "source": [
                "SELECT JobTitle, AVG(Salary) Average_Salary\r\n",
                "FROM SQLTutorial.dbo.EmployeeDemographics t1\r\n",
                "INNER JOIN SQLTutorial.dbo.EmployeeSalary t2\r\n",
                "ON t1.EmployeeID = t2.EmployeeID\r\n",
                "GROUP BY JobTitle"
            ],
            "metadata": {
                "language": "sql",
                "azdata_cell_guid": "8c47e155-2f78-45f5-9b98-88e3a01b5973"
            },
            "outputs": [
                {
                    "output_type": "display_data",
                    "data": {
                        "text/html": "(6 rows affected)"
                    },
                    "metadata": {}
                },
                {
                    "output_type": "display_data",
                    "data": {
                        "text/html": "Total execution time: 00:00:00.008"
                    },
                    "metadata": {}
                },
                {
                    "output_type": "execute_result",
                    "execution_count": 23,
                    "data": {
                        "application/vnd.dataresource+json": {
                            "schema": {
                                "fields": [
                                    {
                                        "name": "JobTitle"
                                    },
                                    {
                                        "name": "Average_Salary"
                                    }
                                ]
                            },
                            "data": [
                                {
                                    "JobTitle": "Accountant",
                                    "Average_Salary": "44500"
                                },
                                {
                                    "JobTitle": "HR",
                                    "Average_Salary": "50000"
                                },
                                {
                                    "JobTitle": "Receptionist",
                                    "Average_Salary": "36000"
                                },
                                {
                                    "JobTitle": "Regional Manager",
                                    "Average_Salary": "65000"
                                },
                                {
                                    "JobTitle": "Salesman",
                                    "Average_Salary": "52000"
                                },
                                {
                                    "JobTitle": "Supplier Relations",
                                    "Average_Salary": "41000"
                                }
                            ]
                        },
                        "text/html": "<table><tr><th>JobTitle</th><th>Average_Salary</th></tr><tr><td>Accountant</td><td>44500</td></tr><tr><td>HR</td><td>50000</td></tr><tr><td>Receptionist</td><td>36000</td></tr><tr><td>Regional Manager</td><td>65000</td></tr><tr><td>Salesman</td><td>52000</td></tr><tr><td>Supplier Relations</td><td>41000</td></tr></table>"
                    },
                    "metadata": {}
                }
            ],
            "execution_count": 23
        },
        {
            "cell_type": "code",
            "source": [
                "SELECT JobTitle, AVG(Salary) Average_Salary\r\n",
                "FROM SQLTutorial.dbo.EmployeeDemographics t1\r\n",
                "INNER JOIN SQLTutorial.dbo.EmployeeSalary t2\r\n",
                "ON t1.EmployeeID = t2.EmployeeID\r\n",
                "GROUP BY JobTitle"
            ],
            "metadata": {
                "language": "sql",
                "azdata_cell_guid": "15daa412-6642-4215-b4ff-2dc71a7d6af9"
            },
            "outputs": [
                {
                    "output_type": "display_data",
                    "data": {
                        "text/html": "(6 rows affected)"
                    },
                    "metadata": {}
                },
                {
                    "output_type": "display_data",
                    "data": {
                        "text/html": "Total execution time: 00:00:00.009"
                    },
                    "metadata": {}
                },
                {
                    "output_type": "execute_result",
                    "execution_count": 38,
                    "data": {
                        "application/vnd.dataresource+json": {
                            "schema": {
                                "fields": [
                                    {
                                        "name": "JobTitle"
                                    },
                                    {
                                        "name": "Average_Salary"
                                    }
                                ]
                            },
                            "data": [
                                {
                                    "JobTitle": "Accountant",
                                    "Average_Salary": "44500"
                                },
                                {
                                    "JobTitle": "HR",
                                    "Average_Salary": "50000"
                                },
                                {
                                    "JobTitle": "Receptionist",
                                    "Average_Salary": "36000"
                                },
                                {
                                    "JobTitle": "Regional Manager",
                                    "Average_Salary": "65000"
                                },
                                {
                                    "JobTitle": "Salesman",
                                    "Average_Salary": "52000"
                                },
                                {
                                    "JobTitle": "Supplier Relations",
                                    "Average_Salary": "41000"
                                }
                            ]
                        },
                        "text/html": "<table><tr><th>JobTitle</th><th>Average_Salary</th></tr><tr><td>Accountant</td><td>44500</td></tr><tr><td>HR</td><td>50000</td></tr><tr><td>Receptionist</td><td>36000</td></tr><tr><td>Regional Manager</td><td>65000</td></tr><tr><td>Salesman</td><td>52000</td></tr><tr><td>Supplier Relations</td><td>41000</td></tr></table>"
                    },
                    "metadata": {
                        "azdata_chartOptions": {
                            "type": "horizontalBar",
                            "dataDirection": "horizontal",
                            "columnsAsLabels": true,
                            "labelFirstColumn": true,
                            "legendPosition": "top",
                            "yAxisLabel": "",
                            "xAxisLabel": "Average Salary"
                        }
                    }
                }
            ],
            "execution_count": 38
        },
        {
            "cell_type": "markdown",
            "source": [
                "# **Union**"
            ],
            "metadata": {
                "language": "sql",
                "azdata_cell_guid": "ac48dd06-398f-401c-b073-4933101d817e"
            },
            "attachments": {}
        },
        {
            "cell_type": "code",
            "source": [
                "Insert into EmployeeDemographics VALUES\r\n",
                "(1011, 'Ryan', 'Howard', 26, 'Male'),\r\n",
                "(NULL, 'Holly', 'Flax', NULL, NULL),\r\n",
                "(1013, 'Darryl', 'Philbin', NULL, 'Male')"
            ],
            "metadata": {
                "language": "sql",
                "azdata_cell_guid": "7b9f1d1b-0d88-4be8-b789-9bb887ed1a5f"
            },
            "outputs": [
                {
                    "output_type": "display_data",
                    "data": {
                        "text/html": "(3 rows affected)"
                    },
                    "metadata": {}
                },
                {
                    "output_type": "display_data",
                    "data": {
                        "text/html": "Total execution time: 00:00:00.003"
                    },
                    "metadata": {}
                }
            ],
            "execution_count": 25
        },
        {
            "cell_type": "code",
            "source": [
                "Create Table WareHouseEmployeeDemographics \r\n",
                "(EmployeeID int, \r\n",
                "FirstName varchar(50), \r\n",
                "LastName varchar(50), \r\n",
                "Age int, \r\n",
                "Gender varchar(50)\r\n",
                ")"
            ],
            "metadata": {
                "language": "sql",
                "azdata_cell_guid": "6a78e70c-1381-4a29-863b-d93aa918f651"
            },
            "outputs": [
                {
                    "output_type": "display_data",
                    "data": {
                        "text/html": "Commands completed successfully."
                    },
                    "metadata": {}
                },
                {
                    "output_type": "display_data",
                    "data": {
                        "text/html": "Total execution time: 00:00:00.002"
                    },
                    "metadata": {}
                }
            ],
            "execution_count": 26
        },
        {
            "cell_type": "code",
            "source": [
                "Insert into WareHouseEmployeeDemographics VALUES\r\n",
                "(1013, 'Darryl', 'Philbin', NULL, 'Male'),\r\n",
                "(1050, 'Roy', 'Anderson', 31, 'Male'),\r\n",
                "(1051, 'Hidetoshi', 'Hasagawa', 40, 'Male'),\r\n",
                "(1052, 'Val', 'Johnson', 31, 'Female')"
            ],
            "metadata": {
                "language": "sql",
                "azdata_cell_guid": "70e69859-095c-4af4-9d49-36f45ef16b2e"
            },
            "outputs": [
                {
                    "output_type": "display_data",
                    "data": {
                        "text/html": "(4 rows affected)"
                    },
                    "metadata": {}
                },
                {
                    "output_type": "display_data",
                    "data": {
                        "text/html": "Total execution time: 00:00:00.002"
                    },
                    "metadata": {}
                }
            ],
            "execution_count": 27
        },
        {
            "cell_type": "code",
            "source": [
                "SELECT *\r\n",
                "FROM EmployeeDemographics\r\n",
                "UNION\r\n",
                "SELECT *\r\n",
                "FROM WareHouseEmployeeDemographics\r\n",
                "ORDER BY EmployeeID"
            ],
            "metadata": {
                "language": "sql",
                "azdata_cell_guid": "4e094c4f-5694-4881-b5d7-7fadee03b512"
            },
            "outputs": [
                {
                    "output_type": "display_data",
                    "data": {
                        "text/html": "(15 rows affected)"
                    },
                    "metadata": {}
                },
                {
                    "output_type": "display_data",
                    "data": {
                        "text/html": "Total execution time: 00:00:00.006"
                    },
                    "metadata": {}
                },
                {
                    "output_type": "execute_result",
                    "execution_count": 30,
                    "data": {
                        "application/vnd.dataresource+json": {
                            "schema": {
                                "fields": [
                                    {
                                        "name": "EmployeeID"
                                    },
                                    {
                                        "name": "FirstaName"
                                    },
                                    {
                                        "name": "LastName"
                                    },
                                    {
                                        "name": "Age"
                                    },
                                    {
                                        "name": "Gender"
                                    }
                                ]
                            },
                            "data": [
                                {
                                    "EmployeeID": "NULL",
                                    "FirstaName": "Holly",
                                    "LastName": "Flax",
                                    "Age": "NULL",
                                    "Gender": "NULL"
                                },
                                {
                                    "EmployeeID": "1001",
                                    "FirstaName": "Jim",
                                    "LastName": "Halpert",
                                    "Age": "30",
                                    "Gender": "Male"
                                },
                                {
                                    "EmployeeID": "1002",
                                    "FirstaName": "Pam",
                                    "LastName": "Beasley",
                                    "Age": "30",
                                    "Gender": "Female"
                                },
                                {
                                    "EmployeeID": "1003",
                                    "FirstaName": "Dwight",
                                    "LastName": "Schrute",
                                    "Age": "29",
                                    "Gender": "Male"
                                },
                                {
                                    "EmployeeID": "1004",
                                    "FirstaName": "Angela",
                                    "LastName": "Martin",
                                    "Age": "31",
                                    "Gender": "Female"
                                },
                                {
                                    "EmployeeID": "1005",
                                    "FirstaName": "Toby",
                                    "LastName": "Flenderson",
                                    "Age": "32",
                                    "Gender": "Male"
                                },
                                {
                                    "EmployeeID": "1006",
                                    "FirstaName": "Michael",
                                    "LastName": "Scott",
                                    "Age": "35",
                                    "Gender": "Male"
                                },
                                {
                                    "EmployeeID": "1007",
                                    "FirstaName": "Meredith",
                                    "LastName": "Palmer",
                                    "Age": "32",
                                    "Gender": "Female"
                                },
                                {
                                    "EmployeeID": "1008",
                                    "FirstaName": "Stanley",
                                    "LastName": "Hudson",
                                    "Age": "38",
                                    "Gender": "Male"
                                },
                                {
                                    "EmployeeID": "1009",
                                    "FirstaName": "Kevin",
                                    "LastName": "Malone",
                                    "Age": "31",
                                    "Gender": "Male"
                                },
                                {
                                    "EmployeeID": "1011",
                                    "FirstaName": "Ryan",
                                    "LastName": "Howard",
                                    "Age": "26",
                                    "Gender": "Male"
                                },
                                {
                                    "EmployeeID": "1013",
                                    "FirstaName": "Darryl",
                                    "LastName": "Philbin",
                                    "Age": "NULL",
                                    "Gender": "Male"
                                },
                                {
                                    "EmployeeID": "1050",
                                    "FirstaName": "Roy",
                                    "LastName": "Anderson",
                                    "Age": "31",
                                    "Gender": "Male"
                                },
                                {
                                    "EmployeeID": "1051",
                                    "FirstaName": "Hidetoshi",
                                    "LastName": "Hasagawa",
                                    "Age": "40",
                                    "Gender": "Male"
                                },
                                {
                                    "EmployeeID": "1052",
                                    "FirstaName": "Val",
                                    "LastName": "Johnson",
                                    "Age": "31",
                                    "Gender": "Female"
                                }
                            ]
                        },
                        "text/html": "<table><tr><th>EmployeeID</th><th>FirstaName</th><th>LastName</th><th>Age</th><th>Gender</th></tr><tr><td>NULL</td><td>Holly</td><td>Flax</td><td>NULL</td><td>NULL</td></tr><tr><td>1001</td><td>Jim</td><td>Halpert</td><td>30</td><td>Male</td></tr><tr><td>1002</td><td>Pam</td><td>Beasley</td><td>30</td><td>Female</td></tr><tr><td>1003</td><td>Dwight</td><td>Schrute</td><td>29</td><td>Male</td></tr><tr><td>1004</td><td>Angela</td><td>Martin</td><td>31</td><td>Female</td></tr><tr><td>1005</td><td>Toby</td><td>Flenderson</td><td>32</td><td>Male</td></tr><tr><td>1006</td><td>Michael</td><td>Scott</td><td>35</td><td>Male</td></tr><tr><td>1007</td><td>Meredith</td><td>Palmer</td><td>32</td><td>Female</td></tr><tr><td>1008</td><td>Stanley</td><td>Hudson</td><td>38</td><td>Male</td></tr><tr><td>1009</td><td>Kevin</td><td>Malone</td><td>31</td><td>Male</td></tr><tr><td>1011</td><td>Ryan</td><td>Howard</td><td>26</td><td>Male</td></tr><tr><td>1013</td><td>Darryl</td><td>Philbin</td><td>NULL</td><td>Male</td></tr><tr><td>1050</td><td>Roy</td><td>Anderson</td><td>31</td><td>Male</td></tr><tr><td>1051</td><td>Hidetoshi</td><td>Hasagawa</td><td>40</td><td>Male</td></tr><tr><td>1052</td><td>Val</td><td>Johnson</td><td>31</td><td>Female</td></tr></table>"
                    },
                    "metadata": {}
                }
            ],
            "execution_count": 30
        },
        {
            "cell_type": "code",
            "source": [
                "SELECT EmployeeID, FirstaName, Age\r\n",
                "FROM EmployeeDemographics\r\n",
                "UNION\r\n",
                "SELECT EmployeeID, JobTitle, Salary\r\n",
                "FROM EmployeeSalary\r\n",
                "ORDER BY EmployeeID"
            ],
            "metadata": {
                "language": "sql",
                "azdata_cell_guid": "d1a20d70-373e-49a3-9e28-073db15f45ba"
            },
            "outputs": [
                {
                    "output_type": "display_data",
                    "data": {
                        "text/html": "(21 rows affected)"
                    },
                    "metadata": {}
                },
                {
                    "output_type": "display_data",
                    "data": {
                        "text/html": "Total execution time: 00:00:00.008"
                    },
                    "metadata": {}
                },
                {
                    "output_type": "execute_result",
                    "execution_count": 33,
                    "data": {
                        "application/vnd.dataresource+json": {
                            "schema": {
                                "fields": [
                                    {
                                        "name": "EmployeeID"
                                    },
                                    {
                                        "name": "FirstaName"
                                    },
                                    {
                                        "name": "Age"
                                    }
                                ]
                            },
                            "data": [
                                {
                                    "EmployeeID": "NULL",
                                    "FirstaName": "Holly",
                                    "Age": "NULL"
                                },
                                {
                                    "EmployeeID": "1001",
                                    "FirstaName": "Jim",
                                    "Age": "30"
                                },
                                {
                                    "EmployeeID": "1001",
                                    "FirstaName": "Salesman",
                                    "Age": "45000"
                                },
                                {
                                    "EmployeeID": "1002",
                                    "FirstaName": "Pam",
                                    "Age": "30"
                                },
                                {
                                    "EmployeeID": "1002",
                                    "FirstaName": "Receptionist",
                                    "Age": "36000"
                                },
                                {
                                    "EmployeeID": "1003",
                                    "FirstaName": "Dwight",
                                    "Age": "29"
                                },
                                {
                                    "EmployeeID": "1003",
                                    "FirstaName": "Salesman",
                                    "Age": "63000"
                                },
                                {
                                    "EmployeeID": "1004",
                                    "FirstaName": "Accountant",
                                    "Age": "47000"
                                },
                                {
                                    "EmployeeID": "1004",
                                    "FirstaName": "Angela",
                                    "Age": "31"
                                },
                                {
                                    "EmployeeID": "1005",
                                    "FirstaName": "HR",
                                    "Age": "50000"
                                },
                                {
                                    "EmployeeID": "1005",
                                    "FirstaName": "Toby",
                                    "Age": "32"
                                },
                                {
                                    "EmployeeID": "1006",
                                    "FirstaName": "Michael",
                                    "Age": "35"
                                },
                                {
                                    "EmployeeID": "1006",
                                    "FirstaName": "Regional Manager",
                                    "Age": "65000"
                                },
                                {
                                    "EmployeeID": "1007",
                                    "FirstaName": "Meredith",
                                    "Age": "32"
                                },
                                {
                                    "EmployeeID": "1007",
                                    "FirstaName": "Supplier Relations",
                                    "Age": "41000"
                                },
                                {
                                    "EmployeeID": "1008",
                                    "FirstaName": "Salesman",
                                    "Age": "48000"
                                },
                                {
                                    "EmployeeID": "1008",
                                    "FirstaName": "Stanley",
                                    "Age": "38"
                                },
                                {
                                    "EmployeeID": "1009",
                                    "FirstaName": "Accountant",
                                    "Age": "42000"
                                },
                                {
                                    "EmployeeID": "1009",
                                    "FirstaName": "Kevin",
                                    "Age": "31"
                                },
                                {
                                    "EmployeeID": "1011",
                                    "FirstaName": "Ryan",
                                    "Age": "26"
                                },
                                {
                                    "EmployeeID": "1013",
                                    "FirstaName": "Darryl",
                                    "Age": "NULL"
                                }
                            ]
                        },
                        "text/html": "<table><tr><th>EmployeeID</th><th>FirstaName</th><th>Age</th></tr><tr><td>NULL</td><td>Holly</td><td>NULL</td></tr><tr><td>1001</td><td>Jim</td><td>30</td></tr><tr><td>1001</td><td>Salesman</td><td>45000</td></tr><tr><td>1002</td><td>Pam</td><td>30</td></tr><tr><td>1002</td><td>Receptionist</td><td>36000</td></tr><tr><td>1003</td><td>Dwight</td><td>29</td></tr><tr><td>1003</td><td>Salesman</td><td>63000</td></tr><tr><td>1004</td><td>Accountant</td><td>47000</td></tr><tr><td>1004</td><td>Angela</td><td>31</td></tr><tr><td>1005</td><td>HR</td><td>50000</td></tr><tr><td>1005</td><td>Toby</td><td>32</td></tr><tr><td>1006</td><td>Michael</td><td>35</td></tr><tr><td>1006</td><td>Regional Manager</td><td>65000</td></tr><tr><td>1007</td><td>Meredith</td><td>32</td></tr><tr><td>1007</td><td>Supplier Relations</td><td>41000</td></tr><tr><td>1008</td><td>Salesman</td><td>48000</td></tr><tr><td>1008</td><td>Stanley</td><td>38</td></tr><tr><td>1009</td><td>Accountant</td><td>42000</td></tr><tr><td>1009</td><td>Kevin</td><td>31</td></tr><tr><td>1011</td><td>Ryan</td><td>26</td></tr><tr><td>1013</td><td>Darryl</td><td>NULL</td></tr></table>"
                    },
                    "metadata": {}
                }
            ],
            "execution_count": 33
        },
        {
            "cell_type": "markdown",
            "source": [
                "# **Case Statement**"
            ],
            "metadata": {
                "language": "sql",
                "azdata_cell_guid": "bcd39e76-c405-4f49-b8a8-8fb9b847a145"
            },
            "attachments": {}
        },
        {
            "cell_type": "code",
            "source": [
                "SELECT EmployeeID, LastName, Age,\r\n",
                "    CASE\r\n",
                "        WHEN Age > 30 THEN 'Old'\r\n",
                "        WHEN Age BETWEEN 27 AND 30 THEN 'Adult'\r\n",
                "        ELSE 'Young'\r\n",
                "    END AS AgeCategory\r\n",
                "FROM EmployeeDemographics\r\n",
                "WHERE Age IS NOT NULL\r\n",
                "ORDER BY Age"
            ],
            "metadata": {
                "language": "sql",
                "azdata_cell_guid": "f2458d26-b114-4947-bacb-34c10636171b"
            },
            "outputs": [
                {
                    "output_type": "display_data",
                    "data": {
                        "text/html": "(10 rows affected)"
                    },
                    "metadata": {}
                },
                {
                    "output_type": "display_data",
                    "data": {
                        "text/html": "Total execution time: 00:00:00.007"
                    },
                    "metadata": {}
                },
                {
                    "output_type": "execute_result",
                    "execution_count": 41,
                    "data": {
                        "application/vnd.dataresource+json": {
                            "schema": {
                                "fields": [
                                    {
                                        "name": "EmployeeID"
                                    },
                                    {
                                        "name": "LastName"
                                    },
                                    {
                                        "name": "Age"
                                    },
                                    {
                                        "name": "AgeCategory"
                                    }
                                ]
                            },
                            "data": [
                                {
                                    "EmployeeID": "1011",
                                    "LastName": "Howard",
                                    "Age": "26",
                                    "AgeCategory": "Young"
                                },
                                {
                                    "EmployeeID": "1003",
                                    "LastName": "Schrute",
                                    "Age": "29",
                                    "AgeCategory": "Adult"
                                },
                                {
                                    "EmployeeID": "1001",
                                    "LastName": "Halpert",
                                    "Age": "30",
                                    "AgeCategory": "Adult"
                                },
                                {
                                    "EmployeeID": "1002",
                                    "LastName": "Beasley",
                                    "Age": "30",
                                    "AgeCategory": "Adult"
                                },
                                {
                                    "EmployeeID": "1004",
                                    "LastName": "Martin",
                                    "Age": "31",
                                    "AgeCategory": "Old"
                                },
                                {
                                    "EmployeeID": "1009",
                                    "LastName": "Malone",
                                    "Age": "31",
                                    "AgeCategory": "Old"
                                },
                                {
                                    "EmployeeID": "1005",
                                    "LastName": "Flenderson",
                                    "Age": "32",
                                    "AgeCategory": "Old"
                                },
                                {
                                    "EmployeeID": "1007",
                                    "LastName": "Palmer",
                                    "Age": "32",
                                    "AgeCategory": "Old"
                                },
                                {
                                    "EmployeeID": "1006",
                                    "LastName": "Scott",
                                    "Age": "35",
                                    "AgeCategory": "Old"
                                },
                                {
                                    "EmployeeID": "1008",
                                    "LastName": "Hudson",
                                    "Age": "38",
                                    "AgeCategory": "Old"
                                }
                            ]
                        },
                        "text/html": "<table><tr><th>EmployeeID</th><th>LastName</th><th>Age</th><th>AgeCategory</th></tr><tr><td>1011</td><td>Howard</td><td>26</td><td>Young</td></tr><tr><td>1003</td><td>Schrute</td><td>29</td><td>Adult</td></tr><tr><td>1001</td><td>Halpert</td><td>30</td><td>Adult</td></tr><tr><td>1002</td><td>Beasley</td><td>30</td><td>Adult</td></tr><tr><td>1004</td><td>Martin</td><td>31</td><td>Old</td></tr><tr><td>1009</td><td>Malone</td><td>31</td><td>Old</td></tr><tr><td>1005</td><td>Flenderson</td><td>32</td><td>Old</td></tr><tr><td>1007</td><td>Palmer</td><td>32</td><td>Old</td></tr><tr><td>1006</td><td>Scott</td><td>35</td><td>Old</td></tr><tr><td>1008</td><td>Hudson</td><td>38</td><td>Old</td></tr></table>"
                    },
                    "metadata": {}
                }
            ],
            "execution_count": 41
        },
        {
            "cell_type": "code",
            "source": [
                "SELECT FirstaName, LastName, JobTitle, Salary,\r\n",
                "    CASE \r\n",
                "        WHEN JobTitle = 'Salesman' THEN Salary + (Salary * 0.10)\r\n",
                "        WHEN JobTitle = 'Account' THEN Salary + (Salary * 0.05)\r\n",
                "        WHEN JobTitle = 'HR' THEN Salary + (Salary * 0.00001)\r\n",
                "        ELSE Salary + (Salary * 0.03)\r\n",
                "    END AS Salary_Hike\r\n",
                "FROM SQLTutorial.dbo.EmployeeDemographics t1\r\n",
                "INNER JOIN SQLTutorial.dbo.EmployeeSalary t2\r\n",
                "ON t1.EmployeeID = t2.EmployeeID\r\n",
                ""
            ],
            "metadata": {
                "language": "sql",
                "azdata_cell_guid": "3cc46b9d-5666-4bb7-9933-7cc042865301"
            },
            "outputs": [
                {
                    "output_type": "display_data",
                    "data": {
                        "text/html": "(9 rows affected)"
                    },
                    "metadata": {}
                },
                {
                    "output_type": "display_data",
                    "data": {
                        "text/html": "Total execution time: 00:00:00.015"
                    },
                    "metadata": {}
                },
                {
                    "output_type": "execute_result",
                    "execution_count": 45,
                    "data": {
                        "application/vnd.dataresource+json": {
                            "schema": {
                                "fields": [
                                    {
                                        "name": "FirstaName"
                                    },
                                    {
                                        "name": "LastName"
                                    },
                                    {
                                        "name": "JobTitle"
                                    },
                                    {
                                        "name": "Salary"
                                    },
                                    {
                                        "name": "Salary_Hike"
                                    }
                                ]
                            },
                            "data": [
                                {
                                    "FirstaName": "Jim",
                                    "LastName": "Halpert",
                                    "JobTitle": "Salesman",
                                    "Salary": "45000",
                                    "Salary_Hike": "49500.00000"
                                },
                                {
                                    "FirstaName": "Pam",
                                    "LastName": "Beasley",
                                    "JobTitle": "Receptionist",
                                    "Salary": "36000",
                                    "Salary_Hike": "37080.00000"
                                },
                                {
                                    "FirstaName": "Dwight",
                                    "LastName": "Schrute",
                                    "JobTitle": "Salesman",
                                    "Salary": "63000",
                                    "Salary_Hike": "69300.00000"
                                },
                                {
                                    "FirstaName": "Angela",
                                    "LastName": "Martin",
                                    "JobTitle": "Accountant",
                                    "Salary": "47000",
                                    "Salary_Hike": "48410.00000"
                                },
                                {
                                    "FirstaName": "Toby",
                                    "LastName": "Flenderson",
                                    "JobTitle": "HR",
                                    "Salary": "50000",
                                    "Salary_Hike": "50000.50000"
                                },
                                {
                                    "FirstaName": "Michael",
                                    "LastName": "Scott",
                                    "JobTitle": "Regional Manager",
                                    "Salary": "65000",
                                    "Salary_Hike": "66950.00000"
                                },
                                {
                                    "FirstaName": "Meredith",
                                    "LastName": "Palmer",
                                    "JobTitle": "Supplier Relations",
                                    "Salary": "41000",
                                    "Salary_Hike": "42230.00000"
                                },
                                {
                                    "FirstaName": "Stanley",
                                    "LastName": "Hudson",
                                    "JobTitle": "Salesman",
                                    "Salary": "48000",
                                    "Salary_Hike": "52800.00000"
                                },
                                {
                                    "FirstaName": "Kevin",
                                    "LastName": "Malone",
                                    "JobTitle": "Accountant",
                                    "Salary": "42000",
                                    "Salary_Hike": "43260.00000"
                                }
                            ]
                        },
                        "text/html": "<table><tr><th>FirstaName</th><th>LastName</th><th>JobTitle</th><th>Salary</th><th>Salary_Hike</th></tr><tr><td>Jim</td><td>Halpert</td><td>Salesman</td><td>45000</td><td>49500.00000</td></tr><tr><td>Pam</td><td>Beasley</td><td>Receptionist</td><td>36000</td><td>37080.00000</td></tr><tr><td>Dwight</td><td>Schrute</td><td>Salesman</td><td>63000</td><td>69300.00000</td></tr><tr><td>Angela</td><td>Martin</td><td>Accountant</td><td>47000</td><td>48410.00000</td></tr><tr><td>Toby</td><td>Flenderson</td><td>HR</td><td>50000</td><td>50000.50000</td></tr><tr><td>Michael</td><td>Scott</td><td>Regional Manager</td><td>65000</td><td>66950.00000</td></tr><tr><td>Meredith</td><td>Palmer</td><td>Supplier Relations</td><td>41000</td><td>42230.00000</td></tr><tr><td>Stanley</td><td>Hudson</td><td>Salesman</td><td>48000</td><td>52800.00000</td></tr><tr><td>Kevin</td><td>Malone</td><td>Accountant</td><td>42000</td><td>43260.00000</td></tr></table>"
                    },
                    "metadata": {}
                }
            ],
            "execution_count": 45
        },
        {
            "cell_type": "markdown",
            "source": [
                "# **Having Clause**"
            ],
            "metadata": {
                "language": "sql",
                "azdata_cell_guid": "75a99e96-eadf-478e-aa68-6c510b052e2f"
            },
            "attachments": {}
        },
        {
            "cell_type": "code",
            "source": [
                "SELECT JobTitle, AVG(Salary) AS Average_Salary\r\n",
                "FROM SQLTutorial.dbo.EmployeeDemographics t1\r\n",
                "INNER JOIN SQLTutorial.dbo.EmployeeSalary t2\r\n",
                "ON t1.EmployeeID = t2.EmployeeID\r\n",
                "GROUP BY JobTitle\r\n",
                "HAVING AVG(Salary) > 45000\r\n",
                "ORDER BY AVG(Salary)"
            ],
            "metadata": {
                "language": "sql",
                "azdata_cell_guid": "740f077b-51b8-4cdb-b8fe-7a70472beefd",
                "tags": []
            },
            "outputs": [
                {
                    "output_type": "display_data",
                    "data": {
                        "text/html": "(3 rows affected)"
                    },
                    "metadata": {}
                },
                {
                    "output_type": "display_data",
                    "data": {
                        "text/html": "Total execution time: 00:00:00.009"
                    },
                    "metadata": {}
                },
                {
                    "output_type": "execute_result",
                    "execution_count": 54,
                    "data": {
                        "application/vnd.dataresource+json": {
                            "schema": {
                                "fields": [
                                    {
                                        "name": "JobTitle"
                                    },
                                    {
                                        "name": "Average_Salary"
                                    }
                                ]
                            },
                            "data": [
                                {
                                    "JobTitle": "HR",
                                    "Average_Salary": "50000"
                                },
                                {
                                    "JobTitle": "Salesman",
                                    "Average_Salary": "52000"
                                },
                                {
                                    "JobTitle": "Regional Manager",
                                    "Average_Salary": "65000"
                                }
                            ]
                        },
                        "text/html": "<table><tr><th>JobTitle</th><th>Average_Salary</th></tr><tr><td>HR</td><td>50000</td></tr><tr><td>Salesman</td><td>52000</td></tr><tr><td>Regional Manager</td><td>65000</td></tr></table>"
                    },
                    "metadata": {}
                }
            ],
            "execution_count": 54
        },
        {
            "cell_type": "markdown",
            "source": [
                "# **Updating/Deleting Data**"
            ],
            "metadata": {
                "language": "sql",
                "azdata_cell_guid": "b1514558-0604-475e-a2b7-00514f00f7c1"
            },
            "attachments": {}
        },
        {
            "cell_type": "code",
            "source": [
                "SELECT *\r\n",
                "FROM EmployeeDemographics"
            ],
            "metadata": {
                "language": "sql",
                "azdata_cell_guid": "336cecb4-8cb3-419e-a5f9-c6065077622b"
            },
            "outputs": [
                {
                    "output_type": "display_data",
                    "data": {
                        "text/html": "(12 rows affected)"
                    },
                    "metadata": {}
                },
                {
                    "output_type": "display_data",
                    "data": {
                        "text/html": "Total execution time: 00:00:00.004"
                    },
                    "metadata": {}
                },
                {
                    "output_type": "execute_result",
                    "execution_count": 55,
                    "data": {
                        "application/vnd.dataresource+json": {
                            "schema": {
                                "fields": [
                                    {
                                        "name": "EmployeeID"
                                    },
                                    {
                                        "name": "FirstaName"
                                    },
                                    {
                                        "name": "LastName"
                                    },
                                    {
                                        "name": "Age"
                                    },
                                    {
                                        "name": "Gender"
                                    }
                                ]
                            },
                            "data": [
                                {
                                    "EmployeeID": "1001",
                                    "FirstaName": "Jim",
                                    "LastName": "Halpert",
                                    "Age": "30",
                                    "Gender": "Male"
                                },
                                {
                                    "EmployeeID": "1002",
                                    "FirstaName": "Pam",
                                    "LastName": "Beasley",
                                    "Age": "30",
                                    "Gender": "Female"
                                },
                                {
                                    "EmployeeID": "1003",
                                    "FirstaName": "Dwight",
                                    "LastName": "Schrute",
                                    "Age": "29",
                                    "Gender": "Male"
                                },
                                {
                                    "EmployeeID": "1004",
                                    "FirstaName": "Angela",
                                    "LastName": "Martin",
                                    "Age": "31",
                                    "Gender": "Female"
                                },
                                {
                                    "EmployeeID": "1005",
                                    "FirstaName": "Toby",
                                    "LastName": "Flenderson",
                                    "Age": "32",
                                    "Gender": "Male"
                                },
                                {
                                    "EmployeeID": "1006",
                                    "FirstaName": "Michael",
                                    "LastName": "Scott",
                                    "Age": "35",
                                    "Gender": "Male"
                                },
                                {
                                    "EmployeeID": "1007",
                                    "FirstaName": "Meredith",
                                    "LastName": "Palmer",
                                    "Age": "32",
                                    "Gender": "Female"
                                },
                                {
                                    "EmployeeID": "1008",
                                    "FirstaName": "Stanley",
                                    "LastName": "Hudson",
                                    "Age": "38",
                                    "Gender": "Male"
                                },
                                {
                                    "EmployeeID": "1009",
                                    "FirstaName": "Kevin",
                                    "LastName": "Malone",
                                    "Age": "31",
                                    "Gender": "Male"
                                },
                                {
                                    "EmployeeID": "1011",
                                    "FirstaName": "Ryan",
                                    "LastName": "Howard",
                                    "Age": "26",
                                    "Gender": "Male"
                                },
                                {
                                    "EmployeeID": "NULL",
                                    "FirstaName": "Holly",
                                    "LastName": "Flax",
                                    "Age": "NULL",
                                    "Gender": "NULL"
                                },
                                {
                                    "EmployeeID": "1013",
                                    "FirstaName": "Darryl",
                                    "LastName": "Philbin",
                                    "Age": "NULL",
                                    "Gender": "Male"
                                }
                            ]
                        },
                        "text/html": "<table><tr><th>EmployeeID</th><th>FirstaName</th><th>LastName</th><th>Age</th><th>Gender</th></tr><tr><td>1001</td><td>Jim</td><td>Halpert</td><td>30</td><td>Male</td></tr><tr><td>1002</td><td>Pam</td><td>Beasley</td><td>30</td><td>Female</td></tr><tr><td>1003</td><td>Dwight</td><td>Schrute</td><td>29</td><td>Male</td></tr><tr><td>1004</td><td>Angela</td><td>Martin</td><td>31</td><td>Female</td></tr><tr><td>1005</td><td>Toby</td><td>Flenderson</td><td>32</td><td>Male</td></tr><tr><td>1006</td><td>Michael</td><td>Scott</td><td>35</td><td>Male</td></tr><tr><td>1007</td><td>Meredith</td><td>Palmer</td><td>32</td><td>Female</td></tr><tr><td>1008</td><td>Stanley</td><td>Hudson</td><td>38</td><td>Male</td></tr><tr><td>1009</td><td>Kevin</td><td>Malone</td><td>31</td><td>Male</td></tr><tr><td>1011</td><td>Ryan</td><td>Howard</td><td>26</td><td>Male</td></tr><tr><td>NULL</td><td>Holly</td><td>Flax</td><td>NULL</td><td>NULL</td></tr><tr><td>1013</td><td>Darryl</td><td>Philbin</td><td>NULL</td><td>Male</td></tr></table>"
                    },
                    "metadata": {}
                }
            ],
            "execution_count": 55
        },
        {
            "cell_type": "code",
            "source": [
                "UPDATE EmployeeDemographics\r\n",
                "SET EmployeeID = 1012\r\n",
                "WHERE FirstaName LIKE 'Holly' AND LastName LIKE 'Flax'"
            ],
            "metadata": {
                "language": "sql",
                "azdata_cell_guid": "eb4d006f-504d-4d5d-919b-090edbc033d9"
            },
            "outputs": [
                {
                    "output_type": "display_data",
                    "data": {
                        "text/html": "(1 row affected)"
                    },
                    "metadata": {}
                },
                {
                    "output_type": "display_data",
                    "data": {
                        "text/html": "Total execution time: 00:00:00.008"
                    },
                    "metadata": {}
                }
            ],
            "execution_count": 56
        },
        {
            "cell_type": "code",
            "source": [
                "UPDATE EmployeeDemographics\r\n",
                "SET Age = 31, Gender = 'Female'\r\n",
                "WHERE FirstaName LIKE 'Holly' AND LastName LIKE 'Flax'"
            ],
            "metadata": {
                "language": "sql",
                "azdata_cell_guid": "57c98b99-9b69-4a85-be55-3cb6e7deaea5"
            },
            "outputs": [
                {
                    "output_type": "display_data",
                    "data": {
                        "text/html": "(1 row affected)"
                    },
                    "metadata": {}
                },
                {
                    "output_type": "display_data",
                    "data": {
                        "text/html": "Total execution time: 00:00:00.002"
                    },
                    "metadata": {}
                }
            ],
            "execution_count": 58
        },
        {
            "cell_type": "code",
            "source": [
                "SELECT * \r\n",
                "FROM EmployeeDemographics"
            ],
            "metadata": {
                "language": "sql",
                "azdata_cell_guid": "03cd40de-042e-42f2-948f-d1f810932511"
            },
            "outputs": [
                {
                    "output_type": "display_data",
                    "data": {
                        "text/html": "(12 rows affected)"
                    },
                    "metadata": {}
                },
                {
                    "output_type": "display_data",
                    "data": {
                        "text/html": "Total execution time: 00:00:00.009"
                    },
                    "metadata": {}
                },
                {
                    "output_type": "execute_result",
                    "execution_count": 59,
                    "data": {
                        "application/vnd.dataresource+json": {
                            "schema": {
                                "fields": [
                                    {
                                        "name": "EmployeeID"
                                    },
                                    {
                                        "name": "FirstaName"
                                    },
                                    {
                                        "name": "LastName"
                                    },
                                    {
                                        "name": "Age"
                                    },
                                    {
                                        "name": "Gender"
                                    }
                                ]
                            },
                            "data": [
                                {
                                    "EmployeeID": "1001",
                                    "FirstaName": "Jim",
                                    "LastName": "Halpert",
                                    "Age": "30",
                                    "Gender": "Male"
                                },
                                {
                                    "EmployeeID": "1002",
                                    "FirstaName": "Pam",
                                    "LastName": "Beasley",
                                    "Age": "30",
                                    "Gender": "Female"
                                },
                                {
                                    "EmployeeID": "1003",
                                    "FirstaName": "Dwight",
                                    "LastName": "Schrute",
                                    "Age": "29",
                                    "Gender": "Male"
                                },
                                {
                                    "EmployeeID": "1004",
                                    "FirstaName": "Angela",
                                    "LastName": "Martin",
                                    "Age": "31",
                                    "Gender": "Female"
                                },
                                {
                                    "EmployeeID": "1005",
                                    "FirstaName": "Toby",
                                    "LastName": "Flenderson",
                                    "Age": "32",
                                    "Gender": "Male"
                                },
                                {
                                    "EmployeeID": "1006",
                                    "FirstaName": "Michael",
                                    "LastName": "Scott",
                                    "Age": "35",
                                    "Gender": "Male"
                                },
                                {
                                    "EmployeeID": "1007",
                                    "FirstaName": "Meredith",
                                    "LastName": "Palmer",
                                    "Age": "32",
                                    "Gender": "Female"
                                },
                                {
                                    "EmployeeID": "1008",
                                    "FirstaName": "Stanley",
                                    "LastName": "Hudson",
                                    "Age": "38",
                                    "Gender": "Male"
                                },
                                {
                                    "EmployeeID": "1009",
                                    "FirstaName": "Kevin",
                                    "LastName": "Malone",
                                    "Age": "31",
                                    "Gender": "Male"
                                },
                                {
                                    "EmployeeID": "1011",
                                    "FirstaName": "Ryan",
                                    "LastName": "Howard",
                                    "Age": "26",
                                    "Gender": "Male"
                                },
                                {
                                    "EmployeeID": "1012",
                                    "FirstaName": "Holly",
                                    "LastName": "Flax",
                                    "Age": "31",
                                    "Gender": "Female"
                                },
                                {
                                    "EmployeeID": "1013",
                                    "FirstaName": "Darryl",
                                    "LastName": "Philbin",
                                    "Age": "NULL",
                                    "Gender": "Male"
                                }
                            ]
                        },
                        "text/html": "<table><tr><th>EmployeeID</th><th>FirstaName</th><th>LastName</th><th>Age</th><th>Gender</th></tr><tr><td>1001</td><td>Jim</td><td>Halpert</td><td>30</td><td>Male</td></tr><tr><td>1002</td><td>Pam</td><td>Beasley</td><td>30</td><td>Female</td></tr><tr><td>1003</td><td>Dwight</td><td>Schrute</td><td>29</td><td>Male</td></tr><tr><td>1004</td><td>Angela</td><td>Martin</td><td>31</td><td>Female</td></tr><tr><td>1005</td><td>Toby</td><td>Flenderson</td><td>32</td><td>Male</td></tr><tr><td>1006</td><td>Michael</td><td>Scott</td><td>35</td><td>Male</td></tr><tr><td>1007</td><td>Meredith</td><td>Palmer</td><td>32</td><td>Female</td></tr><tr><td>1008</td><td>Stanley</td><td>Hudson</td><td>38</td><td>Male</td></tr><tr><td>1009</td><td>Kevin</td><td>Malone</td><td>31</td><td>Male</td></tr><tr><td>1011</td><td>Ryan</td><td>Howard</td><td>26</td><td>Male</td></tr><tr><td>1012</td><td>Holly</td><td>Flax</td><td>31</td><td>Female</td></tr><tr><td>1013</td><td>Darryl</td><td>Philbin</td><td>NULL</td><td>Male</td></tr></table>"
                    },
                    "metadata": {}
                }
            ],
            "execution_count": 59
        },
        {
            "cell_type": "code",
            "source": [
                "DELETE FROM EmployeeDemographics\r\n",
                "WHERE EmployeeID = 1005"
            ],
            "metadata": {
                "language": "sql",
                "azdata_cell_guid": "40fb6272-45b3-4a59-88c7-2f151941639c"
            },
            "outputs": [],
            "execution_count": null
        },
        {
            "cell_type": "markdown",
            "source": [
                "# **Aliasing**"
            ],
            "metadata": {
                "language": "sql",
                "azdata_cell_guid": "369238ba-a410-486f-97ed-b3f13e5ce9c5"
            },
            "attachments": {}
        },
        {
            "cell_type": "code",
            "source": [
                "SELECT FirstaName + ' ' + LastName AS Full_Name\r\n",
                "FROM [SQLTutorial].[dbo].[EmployeeDemographics]"
            ],
            "metadata": {
                "language": "sql",
                "azdata_cell_guid": "58a47fcf-b63c-4461-93c3-e9200274023d",
                "tags": []
            },
            "outputs": [
                {
                    "output_type": "display_data",
                    "data": {
                        "text/html": "(12 rows affected)"
                    },
                    "metadata": {}
                },
                {
                    "output_type": "display_data",
                    "data": {
                        "text/html": "Total execution time: 00:00:00.009"
                    },
                    "metadata": {}
                },
                {
                    "output_type": "execute_result",
                    "execution_count": 62,
                    "data": {
                        "application/vnd.dataresource+json": {
                            "schema": {
                                "fields": [
                                    {
                                        "name": "Full_Name"
                                    }
                                ]
                            },
                            "data": [
                                {
                                    "Full_Name": "Jim Halpert"
                                },
                                {
                                    "Full_Name": "Pam Beasley"
                                },
                                {
                                    "Full_Name": "Dwight Schrute"
                                },
                                {
                                    "Full_Name": "Angela Martin"
                                },
                                {
                                    "Full_Name": "Toby Flenderson"
                                },
                                {
                                    "Full_Name": "Michael Scott"
                                },
                                {
                                    "Full_Name": "Meredith Palmer"
                                },
                                {
                                    "Full_Name": "Stanley Hudson"
                                },
                                {
                                    "Full_Name": "Kevin Malone"
                                },
                                {
                                    "Full_Name": "Ryan Howard"
                                },
                                {
                                    "Full_Name": "Holly Flax"
                                },
                                {
                                    "Full_Name": "Darryl Philbin"
                                }
                            ]
                        },
                        "text/html": "<table><tr><th>Full_Name</th></tr><tr><td>Jim Halpert</td></tr><tr><td>Pam Beasley</td></tr><tr><td>Dwight Schrute</td></tr><tr><td>Angela Martin</td></tr><tr><td>Toby Flenderson</td></tr><tr><td>Michael Scott</td></tr><tr><td>Meredith Palmer</td></tr><tr><td>Stanley Hudson</td></tr><tr><td>Kevin Malone</td></tr><tr><td>Ryan Howard</td></tr><tr><td>Holly Flax</td></tr><tr><td>Darryl Philbin</td></tr></table>"
                    },
                    "metadata": {}
                }
            ],
            "execution_count": 62
        },
        {
            "cell_type": "code",
            "source": [
                "SELECT AVG(Age) as Avg_Age\r\n",
                "FROM [SQLTutorial].[dbo].[EmployeeDemographics]"
            ],
            "metadata": {
                "language": "sql",
                "azdata_cell_guid": "b57776a5-8b7b-414e-9a2a-d2bd3223cd57"
            },
            "outputs": [
                {
                    "output_type": "display_data",
                    "data": {
                        "text/html": "Warning: Null value is eliminated by an aggregate or other SET operation."
                    },
                    "metadata": {}
                },
                {
                    "output_type": "display_data",
                    "data": {
                        "text/html": "(1 row affected)"
                    },
                    "metadata": {}
                },
                {
                    "output_type": "display_data",
                    "data": {
                        "text/html": "Total execution time: 00:00:00.003"
                    },
                    "metadata": {}
                },
                {
                    "output_type": "execute_result",
                    "execution_count": 63,
                    "data": {
                        "application/vnd.dataresource+json": {
                            "schema": {
                                "fields": [
                                    {
                                        "name": "Avg_Age"
                                    }
                                ]
                            },
                            "data": [
                                {
                                    "Avg_Age": "31"
                                }
                            ]
                        },
                        "text/html": "<table><tr><th>Avg_Age</th></tr><tr><td>31</td></tr></table>"
                    },
                    "metadata": {}
                }
            ],
            "execution_count": 63
        },
        {
            "cell_type": "code",
            "source": [
                "SELECT Demo.EmployeeID\r\n",
                "FROM [SQLTutorial].[dbo].[EmployeeDemographics] AS Demo"
            ],
            "metadata": {
                "language": "sql",
                "azdata_cell_guid": "957cba36-c1b2-474b-afed-3264b804cb13"
            },
            "outputs": [
                {
                    "output_type": "display_data",
                    "data": {
                        "text/html": "(12 rows affected)"
                    },
                    "metadata": {}
                },
                {
                    "output_type": "display_data",
                    "data": {
                        "text/html": "Total execution time: 00:00:00.009"
                    },
                    "metadata": {}
                },
                {
                    "output_type": "execute_result",
                    "execution_count": 64,
                    "data": {
                        "application/vnd.dataresource+json": {
                            "schema": {
                                "fields": [
                                    {
                                        "name": "EmployeeID"
                                    }
                                ]
                            },
                            "data": [
                                {
                                    "EmployeeID": "1001"
                                },
                                {
                                    "EmployeeID": "1002"
                                },
                                {
                                    "EmployeeID": "1003"
                                },
                                {
                                    "EmployeeID": "1004"
                                },
                                {
                                    "EmployeeID": "1005"
                                },
                                {
                                    "EmployeeID": "1006"
                                },
                                {
                                    "EmployeeID": "1007"
                                },
                                {
                                    "EmployeeID": "1008"
                                },
                                {
                                    "EmployeeID": "1009"
                                },
                                {
                                    "EmployeeID": "1011"
                                },
                                {
                                    "EmployeeID": "1012"
                                },
                                {
                                    "EmployeeID": "1013"
                                }
                            ]
                        },
                        "text/html": "<table><tr><th>EmployeeID</th></tr><tr><td>1001</td></tr><tr><td>1002</td></tr><tr><td>1003</td></tr><tr><td>1004</td></tr><tr><td>1005</td></tr><tr><td>1006</td></tr><tr><td>1007</td></tr><tr><td>1008</td></tr><tr><td>1009</td></tr><tr><td>1011</td></tr><tr><td>1012</td></tr><tr><td>1013</td></tr></table>"
                    },
                    "metadata": {}
                }
            ],
            "execution_count": 64
        },
        {
            "cell_type": "code",
            "source": [
                "SELECT * \r\n",
                "FROM WareHouseEmployeeDemographics"
            ],
            "metadata": {
                "language": "sql",
                "azdata_cell_guid": "da1d66c7-176b-49aa-938a-058c3f8bb84e",
                "tags": [
                    "hide_input"
                ]
            },
            "outputs": [
                {
                    "output_type": "display_data",
                    "data": {
                        "text/html": "(4 rows affected)"
                    },
                    "metadata": {}
                },
                {
                    "output_type": "display_data",
                    "data": {
                        "text/html": "Total execution time: 00:00:00.009"
                    },
                    "metadata": {}
                },
                {
                    "output_type": "execute_result",
                    "execution_count": 65,
                    "data": {
                        "application/vnd.dataresource+json": {
                            "schema": {
                                "fields": [
                                    {
                                        "name": "EmployeeID"
                                    },
                                    {
                                        "name": "FirstName"
                                    },
                                    {
                                        "name": "LastName"
                                    },
                                    {
                                        "name": "Age"
                                    },
                                    {
                                        "name": "Gender"
                                    }
                                ]
                            },
                            "data": [
                                {
                                    "EmployeeID": "1013",
                                    "FirstName": "Darryl",
                                    "LastName": "Philbin",
                                    "Age": "NULL",
                                    "Gender": "Male"
                                },
                                {
                                    "EmployeeID": "1050",
                                    "FirstName": "Roy",
                                    "LastName": "Anderson",
                                    "Age": "31",
                                    "Gender": "Male"
                                },
                                {
                                    "EmployeeID": "1051",
                                    "FirstName": "Hidetoshi",
                                    "LastName": "Hasagawa",
                                    "Age": "40",
                                    "Gender": "Male"
                                },
                                {
                                    "EmployeeID": "1052",
                                    "FirstName": "Val",
                                    "LastName": "Johnson",
                                    "Age": "31",
                                    "Gender": "Female"
                                }
                            ]
                        },
                        "text/html": "<table><tr><th>EmployeeID</th><th>FirstName</th><th>LastName</th><th>Age</th><th>Gender</th></tr><tr><td>1013</td><td>Darryl</td><td>Philbin</td><td>NULL</td><td>Male</td></tr><tr><td>1050</td><td>Roy</td><td>Anderson</td><td>31</td><td>Male</td></tr><tr><td>1051</td><td>Hidetoshi</td><td>Hasagawa</td><td>40</td><td>Male</td></tr><tr><td>1052</td><td>Val</td><td>Johnson</td><td>31</td><td>Female</td></tr></table>"
                    },
                    "metadata": {}
                }
            ],
            "execution_count": 65
        },
        {
            "cell_type": "code",
            "source": [
                "SELECT Demo.EmployeeID, Demo.FirstaName, Demo.LastName, Sal.JobTitle, Demo.Age\r\n",
                "FROM [SQLTutorial].[dbo].[EmployeeDemographics] AS Demo\r\n",
                "LEFT JOIN [SQLTutorial].[dbo].[EmployeeSalary] AS Sal\r\n",
                "ON Demo.EmployeeID = Sal.EmployeeID\r\n",
                "LEFT JOIN [SQLTutorial].[dbo].[WareHouseEmployeeDemographics] AS Ware\r\n",
                "ON Demo.EmployeeID = Ware.EmployeeID"
            ],
            "metadata": {
                "language": "sql",
                "azdata_cell_guid": "2c72ca7e-2b6a-44ae-82d2-211e00fbef07"
            },
            "outputs": [
                {
                    "output_type": "display_data",
                    "data": {
                        "text/html": "(12 rows affected)"
                    },
                    "metadata": {}
                },
                {
                    "output_type": "display_data",
                    "data": {
                        "text/html": "Total execution time: 00:00:00.004"
                    },
                    "metadata": {}
                },
                {
                    "output_type": "execute_result",
                    "execution_count": 68,
                    "data": {
                        "application/vnd.dataresource+json": {
                            "schema": {
                                "fields": [
                                    {
                                        "name": "EmployeeID"
                                    },
                                    {
                                        "name": "FirstaName"
                                    },
                                    {
                                        "name": "LastName"
                                    },
                                    {
                                        "name": "JobTitle"
                                    },
                                    {
                                        "name": "Age"
                                    }
                                ]
                            },
                            "data": [
                                {
                                    "EmployeeID": "1001",
                                    "FirstaName": "Jim",
                                    "LastName": "Halpert",
                                    "JobTitle": "Salesman",
                                    "Age": "30"
                                },
                                {
                                    "EmployeeID": "1002",
                                    "FirstaName": "Pam",
                                    "LastName": "Beasley",
                                    "JobTitle": "Receptionist",
                                    "Age": "30"
                                },
                                {
                                    "EmployeeID": "1003",
                                    "FirstaName": "Dwight",
                                    "LastName": "Schrute",
                                    "JobTitle": "Salesman",
                                    "Age": "29"
                                },
                                {
                                    "EmployeeID": "1004",
                                    "FirstaName": "Angela",
                                    "LastName": "Martin",
                                    "JobTitle": "Accountant",
                                    "Age": "31"
                                },
                                {
                                    "EmployeeID": "1005",
                                    "FirstaName": "Toby",
                                    "LastName": "Flenderson",
                                    "JobTitle": "HR",
                                    "Age": "32"
                                },
                                {
                                    "EmployeeID": "1006",
                                    "FirstaName": "Michael",
                                    "LastName": "Scott",
                                    "JobTitle": "Regional Manager",
                                    "Age": "35"
                                },
                                {
                                    "EmployeeID": "1007",
                                    "FirstaName": "Meredith",
                                    "LastName": "Palmer",
                                    "JobTitle": "Supplier Relations",
                                    "Age": "32"
                                },
                                {
                                    "EmployeeID": "1008",
                                    "FirstaName": "Stanley",
                                    "LastName": "Hudson",
                                    "JobTitle": "Salesman",
                                    "Age": "38"
                                },
                                {
                                    "EmployeeID": "1009",
                                    "FirstaName": "Kevin",
                                    "LastName": "Malone",
                                    "JobTitle": "Accountant",
                                    "Age": "31"
                                },
                                {
                                    "EmployeeID": "1011",
                                    "FirstaName": "Ryan",
                                    "LastName": "Howard",
                                    "JobTitle": "NULL",
                                    "Age": "26"
                                },
                                {
                                    "EmployeeID": "1012",
                                    "FirstaName": "Holly",
                                    "LastName": "Flax",
                                    "JobTitle": "NULL",
                                    "Age": "31"
                                },
                                {
                                    "EmployeeID": "1013",
                                    "FirstaName": "Darryl",
                                    "LastName": "Philbin",
                                    "JobTitle": "NULL",
                                    "Age": "NULL"
                                }
                            ]
                        },
                        "text/html": "<table><tr><th>EmployeeID</th><th>FirstaName</th><th>LastName</th><th>JobTitle</th><th>Age</th></tr><tr><td>1001</td><td>Jim</td><td>Halpert</td><td>Salesman</td><td>30</td></tr><tr><td>1002</td><td>Pam</td><td>Beasley</td><td>Receptionist</td><td>30</td></tr><tr><td>1003</td><td>Dwight</td><td>Schrute</td><td>Salesman</td><td>29</td></tr><tr><td>1004</td><td>Angela</td><td>Martin</td><td>Accountant</td><td>31</td></tr><tr><td>1005</td><td>Toby</td><td>Flenderson</td><td>HR</td><td>32</td></tr><tr><td>1006</td><td>Michael</td><td>Scott</td><td>Regional Manager</td><td>35</td></tr><tr><td>1007</td><td>Meredith</td><td>Palmer</td><td>Supplier Relations</td><td>32</td></tr><tr><td>1008</td><td>Stanley</td><td>Hudson</td><td>Salesman</td><td>38</td></tr><tr><td>1009</td><td>Kevin</td><td>Malone</td><td>Accountant</td><td>31</td></tr><tr><td>1011</td><td>Ryan</td><td>Howard</td><td>NULL</td><td>26</td></tr><tr><td>1012</td><td>Holly</td><td>Flax</td><td>NULL</td><td>31</td></tr><tr><td>1013</td><td>Darryl</td><td>Philbin</td><td>NULL</td><td>NULL</td></tr></table>"
                    },
                    "metadata": {}
                }
            ],
            "execution_count": 68
        },
        {
            "cell_type": "markdown",
            "source": [
                "# **Partition By**"
            ],
            "metadata": {
                "language": "sql",
                "azdata_cell_guid": "0bb37fe3-7507-4593-9175-333930037a53"
            },
            "attachments": {}
        },
        {
            "cell_type": "code",
            "source": [
                "SELECT FirstaName, LastName, Gender, Salary,\r\n",
                "COUNT(Gender) OVER (PARTITION BY Gender) AS TotalGender\r\n",
                "FROM [SQLTutorial].[dbo].[EmployeeDemographics] AS dem\r\n",
                "JOIN [SQLTutorial].[dbo].[EmployeeSalary] as sal\r\n",
                "ON dem.EmployeeID = sal.EmployeeID"
            ],
            "metadata": {
                "language": "sql",
                "azdata_cell_guid": "38659a8c-63ec-4ab4-9d3f-3f68436ca453"
            },
            "outputs": [
                {
                    "output_type": "display_data",
                    "data": {
                        "text/html": "(9 rows affected)"
                    },
                    "metadata": {}
                },
                {
                    "output_type": "display_data",
                    "data": {
                        "text/html": "Total execution time: 00:00:00.018"
                    },
                    "metadata": {}
                },
                {
                    "output_type": "execute_result",
                    "execution_count": 6,
                    "data": {
                        "application/vnd.dataresource+json": {
                            "schema": {
                                "fields": [
                                    {
                                        "name": "FirstaName"
                                    },
                                    {
                                        "name": "LastName"
                                    },
                                    {
                                        "name": "Gender"
                                    },
                                    {
                                        "name": "Salary"
                                    },
                                    {
                                        "name": "TotalGender"
                                    }
                                ]
                            },
                            "data": [
                                {
                                    "FirstaName": "Pam",
                                    "LastName": "Beasley",
                                    "Gender": "Female",
                                    "Salary": "36000",
                                    "TotalGender": "3"
                                },
                                {
                                    "FirstaName": "Angela",
                                    "LastName": "Martin",
                                    "Gender": "Female",
                                    "Salary": "47000",
                                    "TotalGender": "3"
                                },
                                {
                                    "FirstaName": "Meredith",
                                    "LastName": "Palmer",
                                    "Gender": "Female",
                                    "Salary": "41000",
                                    "TotalGender": "3"
                                },
                                {
                                    "FirstaName": "Jim",
                                    "LastName": "Halpert",
                                    "Gender": "Male",
                                    "Salary": "45000",
                                    "TotalGender": "6"
                                },
                                {
                                    "FirstaName": "Stanley",
                                    "LastName": "Hudson",
                                    "Gender": "Male",
                                    "Salary": "48000",
                                    "TotalGender": "6"
                                },
                                {
                                    "FirstaName": "Kevin",
                                    "LastName": "Malone",
                                    "Gender": "Male",
                                    "Salary": "42000",
                                    "TotalGender": "6"
                                },
                                {
                                    "FirstaName": "Toby",
                                    "LastName": "Flenderson",
                                    "Gender": "Male",
                                    "Salary": "50000",
                                    "TotalGender": "6"
                                },
                                {
                                    "FirstaName": "Michael",
                                    "LastName": "Scott",
                                    "Gender": "Male",
                                    "Salary": "65000",
                                    "TotalGender": "6"
                                },
                                {
                                    "FirstaName": "Dwight",
                                    "LastName": "Schrute",
                                    "Gender": "Male",
                                    "Salary": "63000",
                                    "TotalGender": "6"
                                }
                            ]
                        },
                        "text/html": "<table><tr><th>FirstaName</th><th>LastName</th><th>Gender</th><th>Salary</th><th>TotalGender</th></tr><tr><td>Pam</td><td>Beasley</td><td>Female</td><td>36000</td><td>3</td></tr><tr><td>Angela</td><td>Martin</td><td>Female</td><td>47000</td><td>3</td></tr><tr><td>Meredith</td><td>Palmer</td><td>Female</td><td>41000</td><td>3</td></tr><tr><td>Jim</td><td>Halpert</td><td>Male</td><td>45000</td><td>6</td></tr><tr><td>Stanley</td><td>Hudson</td><td>Male</td><td>48000</td><td>6</td></tr><tr><td>Kevin</td><td>Malone</td><td>Male</td><td>42000</td><td>6</td></tr><tr><td>Toby</td><td>Flenderson</td><td>Male</td><td>50000</td><td>6</td></tr><tr><td>Michael</td><td>Scott</td><td>Male</td><td>65000</td><td>6</td></tr><tr><td>Dwight</td><td>Schrute</td><td>Male</td><td>63000</td><td>6</td></tr></table>"
                    },
                    "metadata": {}
                }
            ],
            "execution_count": 6
        },
        {
            "cell_type": "markdown",
            "source": [
                "# **CTEs**"
            ],
            "metadata": {
                "language": "sql",
                "azdata_cell_guid": "18eebe9c-5c30-490c-8e84-b7ab9ceb5694"
            },
            "attachments": {}
        },
        {
            "cell_type": "code",
            "source": [
                "WITH CTE_Employee AS (\r\n",
                "    SELECT FirstaName, LastName, Gender, Salary,\r\n",
                "    COUNT(Gender) OVER (PARTITION BY Gender) AS TotalGender,\r\n",
                "    AVG(Salary) OVER (PARTITION BY Gender) AS Avg_Salary\r\n",
                "    FROM [SQLTutorial].[dbo].[EmployeeDemographics] AS dem\r\n",
                "    JOIN [SQLTutorial].[dbo].[EmployeeSalary] as sal\r\n",
                "    ON dem.EmployeeID = sal.EmployeeID \r\n",
                ")\r\n",
                "SELECT *\r\n",
                "FROM CTE_Employee"
            ],
            "metadata": {
                "language": "sql",
                "azdata_cell_guid": "fd03e376-baaf-4be9-9bb6-470edf52267f"
            },
            "outputs": [
                {
                    "output_type": "display_data",
                    "data": {
                        "text/html": "(9 rows affected)"
                    },
                    "metadata": {}
                },
                {
                    "output_type": "display_data",
                    "data": {
                        "text/html": "Total execution time: 00:00:00.014"
                    },
                    "metadata": {}
                },
                {
                    "output_type": "execute_result",
                    "execution_count": 12,
                    "data": {
                        "application/vnd.dataresource+json": {
                            "schema": {
                                "fields": [
                                    {
                                        "name": "FirstaName"
                                    },
                                    {
                                        "name": "LastName"
                                    },
                                    {
                                        "name": "Gender"
                                    },
                                    {
                                        "name": "Salary"
                                    },
                                    {
                                        "name": "TotalGender"
                                    },
                                    {
                                        "name": "Avg_Salary"
                                    }
                                ]
                            },
                            "data": [
                                {
                                    "FirstaName": "Pam",
                                    "LastName": "Beasley",
                                    "Gender": "Female",
                                    "Salary": "36000",
                                    "TotalGender": "3",
                                    "Avg_Salary": "41333"
                                },
                                {
                                    "FirstaName": "Angela",
                                    "LastName": "Martin",
                                    "Gender": "Female",
                                    "Salary": "47000",
                                    "TotalGender": "3",
                                    "Avg_Salary": "41333"
                                },
                                {
                                    "FirstaName": "Meredith",
                                    "LastName": "Palmer",
                                    "Gender": "Female",
                                    "Salary": "41000",
                                    "TotalGender": "3",
                                    "Avg_Salary": "41333"
                                },
                                {
                                    "FirstaName": "Jim",
                                    "LastName": "Halpert",
                                    "Gender": "Male",
                                    "Salary": "45000",
                                    "TotalGender": "6",
                                    "Avg_Salary": "52166"
                                },
                                {
                                    "FirstaName": "Stanley",
                                    "LastName": "Hudson",
                                    "Gender": "Male",
                                    "Salary": "48000",
                                    "TotalGender": "6",
                                    "Avg_Salary": "52166"
                                },
                                {
                                    "FirstaName": "Kevin",
                                    "LastName": "Malone",
                                    "Gender": "Male",
                                    "Salary": "42000",
                                    "TotalGender": "6",
                                    "Avg_Salary": "52166"
                                },
                                {
                                    "FirstaName": "Toby",
                                    "LastName": "Flenderson",
                                    "Gender": "Male",
                                    "Salary": "50000",
                                    "TotalGender": "6",
                                    "Avg_Salary": "52166"
                                },
                                {
                                    "FirstaName": "Michael",
                                    "LastName": "Scott",
                                    "Gender": "Male",
                                    "Salary": "65000",
                                    "TotalGender": "6",
                                    "Avg_Salary": "52166"
                                },
                                {
                                    "FirstaName": "Dwight",
                                    "LastName": "Schrute",
                                    "Gender": "Male",
                                    "Salary": "63000",
                                    "TotalGender": "6",
                                    "Avg_Salary": "52166"
                                }
                            ]
                        },
                        "text/html": "<table><tr><th>FirstaName</th><th>LastName</th><th>Gender</th><th>Salary</th><th>TotalGender</th><th>Avg_Salary</th></tr><tr><td>Pam</td><td>Beasley</td><td>Female</td><td>36000</td><td>3</td><td>41333</td></tr><tr><td>Angela</td><td>Martin</td><td>Female</td><td>47000</td><td>3</td><td>41333</td></tr><tr><td>Meredith</td><td>Palmer</td><td>Female</td><td>41000</td><td>3</td><td>41333</td></tr><tr><td>Jim</td><td>Halpert</td><td>Male</td><td>45000</td><td>6</td><td>52166</td></tr><tr><td>Stanley</td><td>Hudson</td><td>Male</td><td>48000</td><td>6</td><td>52166</td></tr><tr><td>Kevin</td><td>Malone</td><td>Male</td><td>42000</td><td>6</td><td>52166</td></tr><tr><td>Toby</td><td>Flenderson</td><td>Male</td><td>50000</td><td>6</td><td>52166</td></tr><tr><td>Michael</td><td>Scott</td><td>Male</td><td>65000</td><td>6</td><td>52166</td></tr><tr><td>Dwight</td><td>Schrute</td><td>Male</td><td>63000</td><td>6</td><td>52166</td></tr></table>"
                    },
                    "metadata": {}
                }
            ],
            "execution_count": 12
        },
        {
            "cell_type": "markdown",
            "source": [
                "# **Temp Tables**"
            ],
            "metadata": {
                "language": "sql",
                "azdata_cell_guid": "de1ed422-4a65-413c-95f6-cdff278a16ac"
            },
            "attachments": {}
        },
        {
            "cell_type": "code",
            "source": [
                "CREATE TABLE #temp_Employee (\r\n",
                "    EmployeeID INT, \r\n",
                "    JobTitle VARCHAR(100),\r\n",
                "    Salary INT\r\n",
                ")"
            ],
            "metadata": {
                "language": "sql",
                "azdata_cell_guid": "2a02fc12-5d0e-41d6-b3db-fa2155c3a54c"
            },
            "outputs": [
                {
                    "output_type": "display_data",
                    "data": {
                        "text/html": "Commands completed successfully."
                    },
                    "metadata": {}
                },
                {
                    "output_type": "display_data",
                    "data": {
                        "text/html": "Total execution time: 00:00:00.001"
                    },
                    "metadata": {}
                }
            ],
            "execution_count": 13
        },
        {
            "cell_type": "code",
            "source": [
                "SELECT *\r\n",
                "from #temp_Employee"
            ],
            "metadata": {
                "language": "sql",
                "azdata_cell_guid": "cf0de29d-0b9e-4bd2-92f8-858b875f6def"
            },
            "outputs": [
                {
                    "output_type": "display_data",
                    "data": {
                        "text/html": "(0 rows affected)"
                    },
                    "metadata": {}
                },
                {
                    "output_type": "display_data",
                    "data": {
                        "text/html": "Total execution time: 00:00:00.002"
                    },
                    "metadata": {}
                },
                {
                    "output_type": "execute_result",
                    "execution_count": 16,
                    "data": {
                        "application/vnd.dataresource+json": {
                            "schema": {
                                "fields": [
                                    {
                                        "name": "EmployeeID"
                                    },
                                    {
                                        "name": "JobTitle"
                                    },
                                    {
                                        "name": "Salary"
                                    }
                                ]
                            },
                            "data": []
                        },
                        "text/html": "<table><tr><th>EmployeeID</th><th>JobTitle</th><th>Salary</th></tr></table>"
                    },
                    "metadata": {}
                }
            ],
            "execution_count": 16
        },
        {
            "cell_type": "code",
            "source": [
                "INSERT INTO #temp_Employee VALUES (\r\n",
                "    '1001', 'HR', 45000\r\n",
                ")"
            ],
            "metadata": {
                "language": "sql",
                "azdata_cell_guid": "c475dc08-2601-4b1b-b6f4-5e1b71df71f9"
            },
            "outputs": [
                {
                    "output_type": "display_data",
                    "data": {
                        "text/html": "(1 row affected)"
                    },
                    "metadata": {}
                },
                {
                    "output_type": "display_data",
                    "data": {
                        "text/html": "Total execution time: 00:00:00.002"
                    },
                    "metadata": {}
                }
            ],
            "execution_count": 17
        },
        {
            "cell_type": "code",
            "source": [
                "SELECT *\r\n",
                "from #temp_Employee"
            ],
            "metadata": {
                "language": "sql",
                "azdata_cell_guid": "c704c101-945e-453e-90bb-0c2d6aa20080"
            },
            "outputs": [
                {
                    "output_type": "display_data",
                    "data": {
                        "text/html": "(1 row affected)"
                    },
                    "metadata": {}
                },
                {
                    "output_type": "display_data",
                    "data": {
                        "text/html": "Total execution time: 00:00:00.008"
                    },
                    "metadata": {}
                },
                {
                    "output_type": "execute_result",
                    "execution_count": 18,
                    "data": {
                        "application/vnd.dataresource+json": {
                            "schema": {
                                "fields": [
                                    {
                                        "name": "EmployeeID"
                                    },
                                    {
                                        "name": "JobTitle"
                                    },
                                    {
                                        "name": "Salary"
                                    }
                                ]
                            },
                            "data": [
                                {
                                    "EmployeeID": "1001",
                                    "JobTitle": "HR",
                                    "Salary": "45000"
                                }
                            ]
                        },
                        "text/html": "<table><tr><th>EmployeeID</th><th>JobTitle</th><th>Salary</th></tr><tr><td>1001</td><td>HR</td><td>45000</td></tr></table>"
                    },
                    "metadata": {}
                }
            ],
            "execution_count": 18
        },
        {
            "cell_type": "code",
            "source": [
                "INSERT INTO #temp_Employee\r\n",
                "SELECT *\r\n",
                "FROM [SQLTutorial].[dbo].[EmployeeSalary]"
            ],
            "metadata": {
                "language": "sql",
                "azdata_cell_guid": "108c1d81-6986-4aa0-b30e-d9c6da5afcd4"
            },
            "outputs": [
                {
                    "output_type": "display_data",
                    "data": {
                        "text/html": "(9 rows affected)"
                    },
                    "metadata": {}
                },
                {
                    "output_type": "display_data",
                    "data": {
                        "text/html": "Total execution time: 00:00:00.001"
                    },
                    "metadata": {}
                }
            ],
            "execution_count": 20
        },
        {
            "cell_type": "code",
            "source": [
                "SELECT *\r\n",
                "from #temp_Employee"
            ],
            "metadata": {
                "language": "sql",
                "azdata_cell_guid": "d18e632c-d140-45a0-94ae-fa79680fb1a6"
            },
            "outputs": [
                {
                    "output_type": "display_data",
                    "data": {
                        "text/html": "(10 rows affected)"
                    },
                    "metadata": {}
                },
                {
                    "output_type": "display_data",
                    "data": {
                        "text/html": "Total execution time: 00:00:00.007"
                    },
                    "metadata": {}
                },
                {
                    "output_type": "execute_result",
                    "execution_count": 21,
                    "data": {
                        "application/vnd.dataresource+json": {
                            "schema": {
                                "fields": [
                                    {
                                        "name": "EmployeeID"
                                    },
                                    {
                                        "name": "JobTitle"
                                    },
                                    {
                                        "name": "Salary"
                                    }
                                ]
                            },
                            "data": [
                                {
                                    "EmployeeID": "1001",
                                    "JobTitle": "HR",
                                    "Salary": "45000"
                                },
                                {
                                    "EmployeeID": "1001",
                                    "JobTitle": "Salesman",
                                    "Salary": "45000"
                                },
                                {
                                    "EmployeeID": "1002",
                                    "JobTitle": "Receptionist",
                                    "Salary": "36000"
                                },
                                {
                                    "EmployeeID": "1003",
                                    "JobTitle": "Salesman",
                                    "Salary": "63000"
                                },
                                {
                                    "EmployeeID": "1004",
                                    "JobTitle": "Accountant",
                                    "Salary": "47000"
                                },
                                {
                                    "EmployeeID": "1005",
                                    "JobTitle": "HR",
                                    "Salary": "50000"
                                },
                                {
                                    "EmployeeID": "1006",
                                    "JobTitle": "Regional Manager",
                                    "Salary": "65000"
                                },
                                {
                                    "EmployeeID": "1007",
                                    "JobTitle": "Supplier Relations",
                                    "Salary": "41000"
                                },
                                {
                                    "EmployeeID": "1008",
                                    "JobTitle": "Salesman",
                                    "Salary": "48000"
                                },
                                {
                                    "EmployeeID": "1009",
                                    "JobTitle": "Accountant",
                                    "Salary": "42000"
                                }
                            ]
                        },
                        "text/html": "<table><tr><th>EmployeeID</th><th>JobTitle</th><th>Salary</th></tr><tr><td>1001</td><td>HR</td><td>45000</td></tr><tr><td>1001</td><td>Salesman</td><td>45000</td></tr><tr><td>1002</td><td>Receptionist</td><td>36000</td></tr><tr><td>1003</td><td>Salesman</td><td>63000</td></tr><tr><td>1004</td><td>Accountant</td><td>47000</td></tr><tr><td>1005</td><td>HR</td><td>50000</td></tr><tr><td>1006</td><td>Regional Manager</td><td>65000</td></tr><tr><td>1007</td><td>Supplier Relations</td><td>41000</td></tr><tr><td>1008</td><td>Salesman</td><td>48000</td></tr><tr><td>1009</td><td>Accountant</td><td>42000</td></tr></table>"
                    },
                    "metadata": {}
                }
            ],
            "execution_count": 21
        },
        {
            "cell_type": "code",
            "source": [
                "Create table #Temp_Employee2 (\r\n",
                "JobTitle varchar(50),\r\n",
                "EmployeesPerJob int ,\r\n",
                "AvgAge int,\r\n",
                "AvgSalary int\r\n",
                ")"
            ],
            "metadata": {
                "language": "sql",
                "azdata_cell_guid": "5c072673-ed7b-40ab-baa5-5005837f422a"
            },
            "outputs": [
                {
                    "output_type": "display_data",
                    "data": {
                        "text/html": "Commands completed successfully."
                    },
                    "metadata": {}
                },
                {
                    "output_type": "display_data",
                    "data": {
                        "text/html": "Total execution time: 00:00:00.001"
                    },
                    "metadata": {}
                }
            ],
            "execution_count": 22
        },
        {
            "cell_type": "code",
            "source": [
                "DROP TABLE IF EXISTS #Temp_Employee2\r\n",
                "INSERT INTO #Temp_Employee2\r\n",
                "SELECT JobTitle, COUNT(JobTitle), AVG(Age), AVG(Salary)\r\n",
                "FROM [SQLTutorial].[dbo].[EmployeeDemographics] emp\r\n",
                "JOIN [SQLTutorial].[dbo].[EmployeeSalary] sal\r\n",
                "ON emp.EmployeeID = sal.EmployeeID\r\n",
                "GROUP BY JobTitle"
            ],
            "metadata": {
                "language": "sql",
                "azdata_cell_guid": "90858ed0-11e9-4635-9a4c-a07f82b3c6b6",
                "tags": []
            },
            "outputs": [
                {
                    "output_type": "display_data",
                    "data": {
                        "text/html": "(6 rows affected)"
                    },
                    "metadata": {}
                },
                {
                    "output_type": "display_data",
                    "data": {
                        "text/html": "Total execution time: 00:00:00.018"
                    },
                    "metadata": {}
                }
            ],
            "execution_count": 23
        },
        {
            "cell_type": "code",
            "source": [
                "SELECT *\r\n",
                "FROM #Temp_Employee2"
            ],
            "metadata": {
                "language": "sql",
                "azdata_cell_guid": "b5c6459f-b6be-4240-a239-12aaaa3dee0e"
            },
            "outputs": [
                {
                    "output_type": "display_data",
                    "data": {
                        "text/html": "(6 rows affected)"
                    },
                    "metadata": {}
                },
                {
                    "output_type": "display_data",
                    "data": {
                        "text/html": "Total execution time: 00:00:00.012"
                    },
                    "metadata": {}
                },
                {
                    "output_type": "execute_result",
                    "execution_count": 24,
                    "data": {
                        "application/vnd.dataresource+json": {
                            "schema": {
                                "fields": [
                                    {
                                        "name": "JobTitle"
                                    },
                                    {
                                        "name": "EmployeesPerJob"
                                    },
                                    {
                                        "name": "AvgAge"
                                    },
                                    {
                                        "name": "AvgSalary"
                                    }
                                ]
                            },
                            "data": [
                                {
                                    "JobTitle": "Accountant",
                                    "EmployeesPerJob": "2",
                                    "AvgAge": "31",
                                    "AvgSalary": "44500"
                                },
                                {
                                    "JobTitle": "HR",
                                    "EmployeesPerJob": "1",
                                    "AvgAge": "32",
                                    "AvgSalary": "50000"
                                },
                                {
                                    "JobTitle": "Receptionist",
                                    "EmployeesPerJob": "1",
                                    "AvgAge": "30",
                                    "AvgSalary": "36000"
                                },
                                {
                                    "JobTitle": "Regional Manager",
                                    "EmployeesPerJob": "1",
                                    "AvgAge": "35",
                                    "AvgSalary": "65000"
                                },
                                {
                                    "JobTitle": "Salesman",
                                    "EmployeesPerJob": "3",
                                    "AvgAge": "32",
                                    "AvgSalary": "52000"
                                },
                                {
                                    "JobTitle": "Supplier Relations",
                                    "EmployeesPerJob": "1",
                                    "AvgAge": "32",
                                    "AvgSalary": "41000"
                                }
                            ]
                        },
                        "text/html": "<table><tr><th>JobTitle</th><th>EmployeesPerJob</th><th>AvgAge</th><th>AvgSalary</th></tr><tr><td>Accountant</td><td>2</td><td>31</td><td>44500</td></tr><tr><td>HR</td><td>1</td><td>32</td><td>50000</td></tr><tr><td>Receptionist</td><td>1</td><td>30</td><td>36000</td></tr><tr><td>Regional Manager</td><td>1</td><td>35</td><td>65000</td></tr><tr><td>Salesman</td><td>3</td><td>32</td><td>52000</td></tr><tr><td>Supplier Relations</td><td>1</td><td>32</td><td>41000</td></tr></table>"
                    },
                    "metadata": {}
                }
            ],
            "execution_count": 24
        },
        {
            "cell_type": "markdown",
            "source": [
                "# **String Functions**"
            ],
            "metadata": {
                "language": "sql",
                "azdata_cell_guid": "c966271d-348d-493a-902a-d0f87dc81cd7"
            },
            "attachments": {}
        },
        {
            "cell_type": "code",
            "source": [
                "CREATE TABLE EmployeeErrors (\r\n",
                "EmployeeID varchar(50)\r\n",
                ",FirstName varchar(50)\r\n",
                ",LastName varchar(50)\r\n",
                ")"
            ],
            "metadata": {
                "language": "sql",
                "azdata_cell_guid": "811447be-a62f-4061-b3a2-366102b75589"
            },
            "outputs": [
                {
                    "output_type": "display_data",
                    "data": {
                        "text/html": "Commands completed successfully."
                    },
                    "metadata": {}
                },
                {
                    "output_type": "display_data",
                    "data": {
                        "text/html": "Total execution time: 00:00:00.003"
                    },
                    "metadata": {}
                }
            ],
            "execution_count": 25
        },
        {
            "cell_type": "code",
            "source": [
                "Insert into EmployeeErrors Values \r\n",
                "('1001  ', 'Jimbo', 'Halbert')\r\n",
                ",('  1002', 'Pamela', 'Beasely')\r\n",
                ",('1005', 'TOby', 'Flenderson - Fired')"
            ],
            "metadata": {
                "language": "sql",
                "azdata_cell_guid": "b08a86be-e6d2-402b-8f02-20d512638eb3"
            },
            "outputs": [
                {
                    "output_type": "display_data",
                    "data": {
                        "text/html": "(3 rows affected)"
                    },
                    "metadata": {}
                },
                {
                    "output_type": "display_data",
                    "data": {
                        "text/html": "Total execution time: 00:00:00.003"
                    },
                    "metadata": {}
                }
            ],
            "execution_count": 26
        },
        {
            "cell_type": "code",
            "source": [
                "Select *\r\n",
                "From EmployeeErrors"
            ],
            "metadata": {
                "language": "sql",
                "azdata_cell_guid": "284bd84a-516d-4ebd-a5c8-43623c3d3ef5"
            },
            "outputs": [
                {
                    "output_type": "display_data",
                    "data": {
                        "text/html": "(3 rows affected)"
                    },
                    "metadata": {}
                },
                {
                    "output_type": "display_data",
                    "data": {
                        "text/html": "Total execution time: 00:00:00.007"
                    },
                    "metadata": {}
                },
                {
                    "output_type": "execute_result",
                    "execution_count": 27,
                    "data": {
                        "application/vnd.dataresource+json": {
                            "schema": {
                                "fields": [
                                    {
                                        "name": "EmployeeID"
                                    },
                                    {
                                        "name": "FirstName"
                                    },
                                    {
                                        "name": "LastName"
                                    }
                                ]
                            },
                            "data": [
                                {
                                    "EmployeeID": "1001  ",
                                    "FirstName": "Jimbo",
                                    "LastName": "Halbert"
                                },
                                {
                                    "EmployeeID": "  1002",
                                    "FirstName": "Pamela",
                                    "LastName": "Beasely"
                                },
                                {
                                    "EmployeeID": "1005",
                                    "FirstName": "TOby",
                                    "LastName": "Flenderson - Fired"
                                }
                            ]
                        },
                        "text/html": "<table><tr><th>EmployeeID</th><th>FirstName</th><th>LastName</th></tr><tr><td>1001  </td><td>Jimbo</td><td>Halbert</td></tr><tr><td>  1002</td><td>Pamela</td><td>Beasely</td></tr><tr><td>1005</td><td>TOby</td><td>Flenderson - Fired</td></tr></table>"
                    },
                    "metadata": {}
                }
            ],
            "execution_count": 27
        },
        {
            "cell_type": "code",
            "source": [
                "-- Using Trim, LTRIM, RTRIM\r\n",
                "\r\n",
                "SELECT EmployeeID, TRIM(EmployeeID) AS IDTRIM\r\n",
                "FROM EmployeeErrors\r\n",
                "\r\n",
                "SELECT EmployeeID, LTRIM(EmployeeID) AS IDTRIM\r\n",
                "FROM EmployeeErrors\r\n",
                "\r\n",
                "SELECT EmployeeID, RTRIM(EmployeeID) AS IDTRIM\r\n",
                "FROM EmployeeErrors"
            ],
            "metadata": {
                "language": "sql",
                "azdata_cell_guid": "505956f9-b5b6-4e41-aa03-eec8a2b6690f"
            },
            "outputs": [
                {
                    "output_type": "display_data",
                    "data": {
                        "text/html": "(3 rows affected)"
                    },
                    "metadata": {}
                },
                {
                    "output_type": "display_data",
                    "data": {
                        "text/html": "(3 rows affected)"
                    },
                    "metadata": {}
                },
                {
                    "output_type": "display_data",
                    "data": {
                        "text/html": "(3 rows affected)"
                    },
                    "metadata": {}
                },
                {
                    "output_type": "display_data",
                    "data": {
                        "text/html": "Total execution time: 00:00:00.014"
                    },
                    "metadata": {}
                },
                {
                    "output_type": "execute_result",
                    "execution_count": 31,
                    "data": {
                        "application/vnd.dataresource+json": {
                            "schema": {
                                "fields": [
                                    {
                                        "name": "EmployeeID"
                                    },
                                    {
                                        "name": "IDTRIM"
                                    }
                                ]
                            },
                            "data": [
                                {
                                    "EmployeeID": "1001  ",
                                    "IDTRIM": "1001"
                                },
                                {
                                    "EmployeeID": "  1002",
                                    "IDTRIM": "1002"
                                },
                                {
                                    "EmployeeID": "1005",
                                    "IDTRIM": "1005"
                                }
                            ]
                        },
                        "text/html": "<table><tr><th>EmployeeID</th><th>IDTRIM</th></tr><tr><td>1001  </td><td>1001</td></tr><tr><td>  1002</td><td>1002</td></tr><tr><td>1005</td><td>1005</td></tr></table>"
                    },
                    "metadata": {}
                },
                {
                    "output_type": "execute_result",
                    "execution_count": 31,
                    "data": {
                        "application/vnd.dataresource+json": {
                            "schema": {
                                "fields": [
                                    {
                                        "name": "EmployeeID"
                                    },
                                    {
                                        "name": "IDTRIM"
                                    }
                                ]
                            },
                            "data": [
                                {
                                    "EmployeeID": "1001  ",
                                    "IDTRIM": "1001  "
                                },
                                {
                                    "EmployeeID": "  1002",
                                    "IDTRIM": "1002"
                                },
                                {
                                    "EmployeeID": "1005",
                                    "IDTRIM": "1005"
                                }
                            ]
                        },
                        "text/html": "<table><tr><th>EmployeeID</th><th>IDTRIM</th></tr><tr><td>1001  </td><td>1001  </td></tr><tr><td>  1002</td><td>1002</td></tr><tr><td>1005</td><td>1005</td></tr></table>"
                    },
                    "metadata": {}
                },
                {
                    "output_type": "execute_result",
                    "execution_count": 31,
                    "data": {
                        "application/vnd.dataresource+json": {
                            "schema": {
                                "fields": [
                                    {
                                        "name": "EmployeeID"
                                    },
                                    {
                                        "name": "IDTRIM"
                                    }
                                ]
                            },
                            "data": [
                                {
                                    "EmployeeID": "1001  ",
                                    "IDTRIM": "1001"
                                },
                                {
                                    "EmployeeID": "  1002",
                                    "IDTRIM": "  1002"
                                },
                                {
                                    "EmployeeID": "1005",
                                    "IDTRIM": "1005"
                                }
                            ]
                        },
                        "text/html": "<table><tr><th>EmployeeID</th><th>IDTRIM</th></tr><tr><td>1001  </td><td>1001</td></tr><tr><td>  1002</td><td>  1002</td></tr><tr><td>1005</td><td>1005</td></tr></table>"
                    },
                    "metadata": {}
                }
            ],
            "execution_count": 31
        },
        {
            "cell_type": "code",
            "source": [
                "-- Using Replace\r\n",
                "\r\n",
                "SELECT LastName, REPLACE(LastName, '- Fired', '')\r\n",
                "FROM EmployeeErrors"
            ],
            "metadata": {
                "language": "sql",
                "azdata_cell_guid": "fb5608e8-4e07-4ff8-8b56-ab5e6192c943"
            },
            "outputs": [
                {
                    "output_type": "display_data",
                    "data": {
                        "text/html": "(3 rows affected)"
                    },
                    "metadata": {}
                },
                {
                    "output_type": "display_data",
                    "data": {
                        "text/html": "Total execution time: 00:00:00.031"
                    },
                    "metadata": {}
                },
                {
                    "output_type": "execute_result",
                    "execution_count": 32,
                    "data": {
                        "application/vnd.dataresource+json": {
                            "schema": {
                                "fields": [
                                    {
                                        "name": "LastName"
                                    },
                                    {
                                        "name": "(No column name)"
                                    }
                                ]
                            },
                            "data": [
                                {
                                    "LastName": "Halbert",
                                    "(No column name)": "Halbert"
                                },
                                {
                                    "LastName": "Beasely",
                                    "(No column name)": "Beasely"
                                },
                                {
                                    "LastName": "Flenderson - Fired",
                                    "(No column name)": "Flenderson "
                                }
                            ]
                        },
                        "text/html": "<table><tr><th>LastName</th><th>(No column name)</th></tr><tr><td>Halbert</td><td>Halbert</td></tr><tr><td>Beasely</td><td>Beasely</td></tr><tr><td>Flenderson - Fired</td><td>Flenderson </td></tr></table>"
                    },
                    "metadata": {}
                }
            ],
            "execution_count": 32
        },
        {
            "cell_type": "code",
            "source": [
                "-- Using SubString\r\n",
                "\r\n",
                "SELECT FirstName, SUBSTRING(FirstName, 1, 3) as sub_String\r\n",
                "FROM EmployeeErrors"
            ],
            "metadata": {
                "language": "sql",
                "azdata_cell_guid": "600b941b-d40e-49d6-9037-8a668255623f"
            },
            "outputs": [
                {
                    "output_type": "display_data",
                    "data": {
                        "text/html": "(3 rows affected)"
                    },
                    "metadata": {}
                },
                {
                    "output_type": "display_data",
                    "data": {
                        "text/html": "Total execution time: 00:00:00.009"
                    },
                    "metadata": {}
                },
                {
                    "output_type": "execute_result",
                    "execution_count": 33,
                    "data": {
                        "application/vnd.dataresource+json": {
                            "schema": {
                                "fields": [
                                    {
                                        "name": "FirstName"
                                    },
                                    {
                                        "name": "sub_String"
                                    }
                                ]
                            },
                            "data": [
                                {
                                    "FirstName": "Jimbo",
                                    "sub_String": "Jim"
                                },
                                {
                                    "FirstName": "Pamela",
                                    "sub_String": "Pam"
                                },
                                {
                                    "FirstName": "TOby",
                                    "sub_String": "TOb"
                                }
                            ]
                        },
                        "text/html": "<table><tr><th>FirstName</th><th>sub_String</th></tr><tr><td>Jimbo</td><td>Jim</td></tr><tr><td>Pamela</td><td>Pam</td></tr><tr><td>TOby</td><td>TOb</td></tr></table>"
                    },
                    "metadata": {}
                }
            ],
            "execution_count": 33
        },
        {
            "cell_type": "code",
            "source": [
                "Select Substring(err.FirstName,1,3), Substring(dem.FirstaName,1,3), Substring(err.LastName,1,3), Substring(dem.LastName,1,3)\r\n",
                "FROM EmployeeErrors err\r\n",
                "JOIN EmployeeDemographics dem\r\n",
                "\ton Substring(err.FirstName,1,3) = Substring(dem.FirstaName,1,3)\r\n",
                "\tand Substring(err.LastName,1,3) = Substring(dem.LastName,1,3)\r\n",
                ""
            ],
            "metadata": {
                "language": "sql",
                "azdata_cell_guid": "762d1331-948e-44e3-8003-ec2d89e5de15"
            },
            "outputs": [
                {
                    "output_type": "display_data",
                    "data": {
                        "text/html": "(3 rows affected)"
                    },
                    "metadata": {}
                },
                {
                    "output_type": "display_data",
                    "data": {
                        "text/html": "Total execution time: 00:00:00.010"
                    },
                    "metadata": {}
                },
                {
                    "output_type": "execute_result",
                    "execution_count": 35,
                    "data": {
                        "application/vnd.dataresource+json": {
                            "schema": {
                                "fields": [
                                    {
                                        "name": "(No column name)"
                                    },
                                    {
                                        "name": "(No column name)"
                                    },
                                    {
                                        "name": "(No column name)"
                                    },
                                    {
                                        "name": "(No column name)"
                                    }
                                ]
                            },
                            "data": [
                                {
                                    "(No column name)": "Hal"
                                },
                                {
                                    "(No column name)": "Bea"
                                },
                                {
                                    "(No column name)": "Fle"
                                }
                            ]
                        },
                        "text/html": "<table><tr><th>(No column name)</th><th>(No column name)</th><th>(No column name)</th><th>(No column name)</th></tr><tr><td>Jim</td><td>Jim</td><td>Hal</td><td>Hal</td></tr><tr><td>Pam</td><td>Pam</td><td>Bea</td><td>Bea</td></tr><tr><td>TOb</td><td>Tob</td><td>Fle</td><td>Fle</td></tr></table>"
                    },
                    "metadata": {}
                }
            ],
            "execution_count": 35
        },
        {
            "cell_type": "code",
            "source": [
                "SELECT FirstName, LOWER(FirstName)\r\n",
                "FROM EmployeeErrors"
            ],
            "metadata": {
                "language": "sql",
                "azdata_cell_guid": "ca23585b-3093-4386-9350-e5a9afa7f919"
            },
            "outputs": [
                {
                    "output_type": "display_data",
                    "data": {
                        "text/html": "(3 rows affected)"
                    },
                    "metadata": {}
                },
                {
                    "output_type": "display_data",
                    "data": {
                        "text/html": "Total execution time: 00:00:00.008"
                    },
                    "metadata": {}
                },
                {
                    "output_type": "execute_result",
                    "execution_count": 36,
                    "data": {
                        "application/vnd.dataresource+json": {
                            "schema": {
                                "fields": [
                                    {
                                        "name": "FirstName"
                                    },
                                    {
                                        "name": "(No column name)"
                                    }
                                ]
                            },
                            "data": [
                                {
                                    "FirstName": "Jimbo",
                                    "(No column name)": "jimbo"
                                },
                                {
                                    "FirstName": "Pamela",
                                    "(No column name)": "pamela"
                                },
                                {
                                    "FirstName": "TOby",
                                    "(No column name)": "toby"
                                }
                            ]
                        },
                        "text/html": "<table><tr><th>FirstName</th><th>(No column name)</th></tr><tr><td>Jimbo</td><td>jimbo</td></tr><tr><td>Pamela</td><td>pamela</td></tr><tr><td>TOby</td><td>toby</td></tr></table>"
                    },
                    "metadata": {}
                }
            ],
            "execution_count": 36
        },
        {
            "cell_type": "code",
            "source": [
                "SELECT FirstName, UPPER(FirstName)\r\n",
                "FROM EmployeeErrors"
            ],
            "metadata": {
                "language": "sql",
                "azdata_cell_guid": "4ef47933-7568-4fee-9aba-03d9ed70560a"
            },
            "outputs": [
                {
                    "output_type": "display_data",
                    "data": {
                        "text/html": "(3 rows affected)"
                    },
                    "metadata": {}
                },
                {
                    "output_type": "display_data",
                    "data": {
                        "text/html": "Total execution time: 00:00:00.007"
                    },
                    "metadata": {}
                },
                {
                    "output_type": "execute_result",
                    "execution_count": 37,
                    "data": {
                        "application/vnd.dataresource+json": {
                            "schema": {
                                "fields": [
                                    {
                                        "name": "FirstName"
                                    },
                                    {
                                        "name": "(No column name)"
                                    }
                                ]
                            },
                            "data": [
                                {
                                    "FirstName": "Jimbo",
                                    "(No column name)": "JIMBO"
                                },
                                {
                                    "FirstName": "Pamela",
                                    "(No column name)": "PAMELA"
                                },
                                {
                                    "FirstName": "TOby",
                                    "(No column name)": "TOBY"
                                }
                            ]
                        },
                        "text/html": "<table><tr><th>FirstName</th><th>(No column name)</th></tr><tr><td>Jimbo</td><td>JIMBO</td></tr><tr><td>Pamela</td><td>PAMELA</td></tr><tr><td>TOby</td><td>TOBY</td></tr></table>"
                    },
                    "metadata": {}
                }
            ],
            "execution_count": 37
        },
        {
            "cell_type": "markdown",
            "source": [
                "# **Stored Procedures**"
            ],
            "metadata": {
                "language": "sql",
                "azdata_cell_guid": "eb426214-4fa3-4b59-94d7-4b5d0325ecb8"
            },
            "attachments": {}
        },
        {
            "cell_type": "code",
            "source": [
                "CREATE PROCEDURE TEST \r\n",
                "AS\r\n",
                "SELECT *\r\n",
                "FROM EmployeeDemographics"
            ],
            "metadata": {
                "language": "sql",
                "azdata_cell_guid": "a312f046-a98b-4153-8af6-5f922b412b29"
            },
            "outputs": [
                {
                    "output_type": "display_data",
                    "data": {
                        "text/html": "Commands completed successfully."
                    },
                    "metadata": {}
                },
                {
                    "output_type": "display_data",
                    "data": {
                        "text/html": "Total execution time: 00:00:00.005"
                    },
                    "metadata": {}
                }
            ],
            "execution_count": 39
        },
        {
            "cell_type": "code",
            "source": [
                "EXEC TEST"
            ],
            "metadata": {
                "language": "sql",
                "azdata_cell_guid": "0065d17c-5816-4ce7-8dea-210a257aeda2"
            },
            "outputs": [
                {
                    "output_type": "display_data",
                    "data": {
                        "text/html": "(12 rows affected)"
                    },
                    "metadata": {}
                },
                {
                    "output_type": "display_data",
                    "data": {
                        "text/html": "Total execution time: 00:00:00.009"
                    },
                    "metadata": {}
                },
                {
                    "output_type": "execute_result",
                    "execution_count": 40,
                    "data": {
                        "application/vnd.dataresource+json": {
                            "schema": {
                                "fields": [
                                    {
                                        "name": "EmployeeID"
                                    },
                                    {
                                        "name": "FirstaName"
                                    },
                                    {
                                        "name": "LastName"
                                    },
                                    {
                                        "name": "Age"
                                    },
                                    {
                                        "name": "Gender"
                                    }
                                ]
                            },
                            "data": [
                                {
                                    "EmployeeID": "1001",
                                    "FirstaName": "Jim",
                                    "LastName": "Halpert",
                                    "Age": "30",
                                    "Gender": "Male"
                                },
                                {
                                    "EmployeeID": "1002",
                                    "FirstaName": "Pam",
                                    "LastName": "Beasley",
                                    "Age": "30",
                                    "Gender": "Female"
                                },
                                {
                                    "EmployeeID": "1003",
                                    "FirstaName": "Dwight",
                                    "LastName": "Schrute",
                                    "Age": "29",
                                    "Gender": "Male"
                                },
                                {
                                    "EmployeeID": "1004",
                                    "FirstaName": "Angela",
                                    "LastName": "Martin",
                                    "Age": "31",
                                    "Gender": "Female"
                                },
                                {
                                    "EmployeeID": "1005",
                                    "FirstaName": "Toby",
                                    "LastName": "Flenderson",
                                    "Age": "32",
                                    "Gender": "Male"
                                },
                                {
                                    "EmployeeID": "1006",
                                    "FirstaName": "Michael",
                                    "LastName": "Scott",
                                    "Age": "35",
                                    "Gender": "Male"
                                },
                                {
                                    "EmployeeID": "1007",
                                    "FirstaName": "Meredith",
                                    "LastName": "Palmer",
                                    "Age": "32",
                                    "Gender": "Female"
                                },
                                {
                                    "EmployeeID": "1008",
                                    "FirstaName": "Stanley",
                                    "LastName": "Hudson",
                                    "Age": "38",
                                    "Gender": "Male"
                                },
                                {
                                    "EmployeeID": "1009",
                                    "FirstaName": "Kevin",
                                    "LastName": "Malone",
                                    "Age": "31",
                                    "Gender": "Male"
                                },
                                {
                                    "EmployeeID": "1011",
                                    "FirstaName": "Ryan",
                                    "LastName": "Howard",
                                    "Age": "26",
                                    "Gender": "Male"
                                },
                                {
                                    "EmployeeID": "1012",
                                    "FirstaName": "Holly",
                                    "LastName": "Flax",
                                    "Age": "31",
                                    "Gender": "Female"
                                },
                                {
                                    "EmployeeID": "1013",
                                    "FirstaName": "Darryl",
                                    "LastName": "Philbin",
                                    "Age": "NULL",
                                    "Gender": "Male"
                                }
                            ]
                        },
                        "text/html": "<table><tr><th>EmployeeID</th><th>FirstaName</th><th>LastName</th><th>Age</th><th>Gender</th></tr><tr><td>1001</td><td>Jim</td><td>Halpert</td><td>30</td><td>Male</td></tr><tr><td>1002</td><td>Pam</td><td>Beasley</td><td>30</td><td>Female</td></tr><tr><td>1003</td><td>Dwight</td><td>Schrute</td><td>29</td><td>Male</td></tr><tr><td>1004</td><td>Angela</td><td>Martin</td><td>31</td><td>Female</td></tr><tr><td>1005</td><td>Toby</td><td>Flenderson</td><td>32</td><td>Male</td></tr><tr><td>1006</td><td>Michael</td><td>Scott</td><td>35</td><td>Male</td></tr><tr><td>1007</td><td>Meredith</td><td>Palmer</td><td>32</td><td>Female</td></tr><tr><td>1008</td><td>Stanley</td><td>Hudson</td><td>38</td><td>Male</td></tr><tr><td>1009</td><td>Kevin</td><td>Malone</td><td>31</td><td>Male</td></tr><tr><td>1011</td><td>Ryan</td><td>Howard</td><td>26</td><td>Male</td></tr><tr><td>1012</td><td>Holly</td><td>Flax</td><td>31</td><td>Female</td></tr><tr><td>1013</td><td>Darryl</td><td>Philbin</td><td>NULL</td><td>Male</td></tr></table>"
                    },
                    "metadata": {}
                }
            ],
            "execution_count": 40
        },
        {
            "cell_type": "code",
            "source": [
                "CREATE PROCEDURE Temp_Employees \r\n",
                "AS\r\n",
                "\r\n",
                "Create table #temp_employee4 (\r\n",
                "JobTitle varchar(50),\r\n",
                "EmployeesPerJob int ,\r\n",
                "AvgAge int,\r\n",
                "AvgSalary int\r\n",
                ")\r\n",
                "\r\n",
                "INSERT INTO #temp_employee4\r\n",
                "SELECT JobTitle, COUNT(JobTitle), AVG(Age), AVG(Salary)\r\n",
                "FROM [SQLTutorial].[dbo].[EmployeeDemographics] emp\r\n",
                "JOIN [SQLTutorial].[dbo].[EmployeeSalary] sal\r\n",
                "ON emp.EmployeeID = sal.EmployeeID\r\n",
                "GROUP BY JobTitle\r\n",
                "\r\n",
                "\r\n",
                "SELECT *\r\n",
                "FROM #temp_employee4"
            ],
            "metadata": {
                "language": "sql",
                "azdata_cell_guid": "add99bb2-d374-4b5f-99b4-5e377212c519"
            },
            "outputs": [
                {
                    "output_type": "display_data",
                    "data": {
                        "text/html": "Commands completed successfully."
                    },
                    "metadata": {}
                },
                {
                    "output_type": "display_data",
                    "data": {
                        "text/html": "Total execution time: 00:00:00.004"
                    },
                    "metadata": {}
                }
            ],
            "execution_count": 43
        },
        {
            "cell_type": "code",
            "source": [
                "EXEC Temp_Employees @JobTitle = 'HR'"
            ],
            "metadata": {
                "language": "sql",
                "azdata_cell_guid": "e3605039-a716-4905-a509-3f6e18420ac6"
            },
            "outputs": [
                {
                    "output_type": "display_data",
                    "data": {
                        "text/html": "(1 row affected)"
                    },
                    "metadata": {}
                },
                {
                    "output_type": "display_data",
                    "data": {
                        "text/html": "(1 row affected)"
                    },
                    "metadata": {}
                },
                {
                    "output_type": "display_data",
                    "data": {
                        "text/html": "Total execution time: 00:00:00.012"
                    },
                    "metadata": {}
                },
                {
                    "output_type": "execute_result",
                    "execution_count": 46,
                    "data": {
                        "application/vnd.dataresource+json": {
                            "schema": {
                                "fields": [
                                    {
                                        "name": "JobTitle"
                                    },
                                    {
                                        "name": "EmployeesPerJob"
                                    },
                                    {
                                        "name": "AvgAge"
                                    },
                                    {
                                        "name": "AvgSalary"
                                    }
                                ]
                            },
                            "data": [
                                {
                                    "JobTitle": "HR",
                                    "EmployeesPerJob": "1",
                                    "AvgAge": "32",
                                    "AvgSalary": "50000"
                                }
                            ]
                        },
                        "text/html": "<table><tr><th>JobTitle</th><th>EmployeesPerJob</th><th>AvgAge</th><th>AvgSalary</th></tr><tr><td>HR</td><td>1</td><td>32</td><td>50000</td></tr></table>"
                    },
                    "metadata": {}
                }
            ],
            "execution_count": 46
        },
        {
            "cell_type": "markdown",
            "source": [
                "# **SubQuery**"
            ],
            "metadata": {
                "language": "sql",
                "azdata_cell_guid": "345dd8d2-b30f-4c07-8ddf-af27eb4a4162"
            },
            "attachments": {}
        },
        {
            "cell_type": "code",
            "source": [
                "SELECT *\r\n",
                "FROM EmployeeSalary"
            ],
            "metadata": {
                "language": "sql",
                "azdata_cell_guid": "92f92fbe-e917-4837-b782-ddcb57974272"
            },
            "outputs": [
                {
                    "output_type": "display_data",
                    "data": {
                        "text/html": "(9 rows affected)"
                    },
                    "metadata": {}
                },
                {
                    "output_type": "display_data",
                    "data": {
                        "text/html": "Total execution time: 00:00:00.009"
                    },
                    "metadata": {}
                },
                {
                    "output_type": "execute_result",
                    "metadata": {},
                    "execution_count": 4,
                    "data": {
                        "application/vnd.dataresource+json": {
                            "schema": {
                                "fields": [
                                    {
                                        "name": "EmployeeID"
                                    },
                                    {
                                        "name": "JobTitle"
                                    },
                                    {
                                        "name": "Salary"
                                    }
                                ]
                            },
                            "data": [
                                {
                                    "EmployeeID": "1001",
                                    "JobTitle": "Salesman",
                                    "Salary": "45000"
                                },
                                {
                                    "EmployeeID": "1002",
                                    "JobTitle": "Receptionist",
                                    "Salary": "36000"
                                },
                                {
                                    "EmployeeID": "1003",
                                    "JobTitle": "Salesman",
                                    "Salary": "63000"
                                },
                                {
                                    "EmployeeID": "1004",
                                    "JobTitle": "Accountant",
                                    "Salary": "47000"
                                },
                                {
                                    "EmployeeID": "1005",
                                    "JobTitle": "HR",
                                    "Salary": "50000"
                                },
                                {
                                    "EmployeeID": "1006",
                                    "JobTitle": "Regional Manager",
                                    "Salary": "65000"
                                },
                                {
                                    "EmployeeID": "1007",
                                    "JobTitle": "Supplier Relations",
                                    "Salary": "41000"
                                },
                                {
                                    "EmployeeID": "1008",
                                    "JobTitle": "Salesman",
                                    "Salary": "48000"
                                },
                                {
                                    "EmployeeID": "1009",
                                    "JobTitle": "Accountant",
                                    "Salary": "42000"
                                }
                            ]
                        },
                        "text/html": [
                            "<table>",
                            "<tr><th>EmployeeID</th><th>JobTitle</th><th>Salary</th></tr>",
                            "<tr><td>1001</td><td>Salesman</td><td>45000</td></tr>",
                            "<tr><td>1002</td><td>Receptionist</td><td>36000</td></tr>",
                            "<tr><td>1003</td><td>Salesman</td><td>63000</td></tr>",
                            "<tr><td>1004</td><td>Accountant</td><td>47000</td></tr>",
                            "<tr><td>1005</td><td>HR</td><td>50000</td></tr>",
                            "<tr><td>1006</td><td>Regional Manager</td><td>65000</td></tr>",
                            "<tr><td>1007</td><td>Supplier Relations</td><td>41000</td></tr>",
                            "<tr><td>1008</td><td>Salesman</td><td>48000</td></tr>",
                            "<tr><td>1009</td><td>Accountant</td><td>42000</td></tr>",
                            "</table>"
                        ]
                    }
                }
            ],
            "execution_count": 4
        },
        {
            "cell_type": "code",
            "source": [
                "SELECT EmployeeID, Salary, (SELECT AVG(Salary) FROM EmployeeSalary) AS Avg_Salary\r\n",
                "FROM EmployeeSalary"
            ],
            "metadata": {
                "language": "sql",
                "azdata_cell_guid": "fb9b5f10-3fd1-4f1f-a370-549578af7be1"
            },
            "outputs": [
                {
                    "output_type": "display_data",
                    "data": {
                        "text/html": "(9 rows affected)"
                    },
                    "metadata": {}
                },
                {
                    "output_type": "display_data",
                    "data": {
                        "text/html": "Total execution time: 00:00:00.011"
                    },
                    "metadata": {}
                },
                {
                    "output_type": "execute_result",
                    "metadata": {},
                    "execution_count": 5,
                    "data": {
                        "application/vnd.dataresource+json": {
                            "schema": {
                                "fields": [
                                    {
                                        "name": "EmployeeID"
                                    },
                                    {
                                        "name": "Salary"
                                    },
                                    {
                                        "name": "Avg_Salary"
                                    }
                                ]
                            },
                            "data": [
                                {
                                    "EmployeeID": "1001",
                                    "Salary": "45000",
                                    "Avg_Salary": "48555"
                                },
                                {
                                    "EmployeeID": "1002",
                                    "Salary": "36000",
                                    "Avg_Salary": "48555"
                                },
                                {
                                    "EmployeeID": "1003",
                                    "Salary": "63000",
                                    "Avg_Salary": "48555"
                                },
                                {
                                    "EmployeeID": "1004",
                                    "Salary": "47000",
                                    "Avg_Salary": "48555"
                                },
                                {
                                    "EmployeeID": "1005",
                                    "Salary": "50000",
                                    "Avg_Salary": "48555"
                                },
                                {
                                    "EmployeeID": "1006",
                                    "Salary": "65000",
                                    "Avg_Salary": "48555"
                                },
                                {
                                    "EmployeeID": "1007",
                                    "Salary": "41000",
                                    "Avg_Salary": "48555"
                                },
                                {
                                    "EmployeeID": "1008",
                                    "Salary": "48000",
                                    "Avg_Salary": "48555"
                                },
                                {
                                    "EmployeeID": "1009",
                                    "Salary": "42000",
                                    "Avg_Salary": "48555"
                                }
                            ]
                        },
                        "text/html": [
                            "<table>",
                            "<tr><th>EmployeeID</th><th>Salary</th><th>Avg_Salary</th></tr>",
                            "<tr><td>1001</td><td>45000</td><td>48555</td></tr>",
                            "<tr><td>1002</td><td>36000</td><td>48555</td></tr>",
                            "<tr><td>1003</td><td>63000</td><td>48555</td></tr>",
                            "<tr><td>1004</td><td>47000</td><td>48555</td></tr>",
                            "<tr><td>1005</td><td>50000</td><td>48555</td></tr>",
                            "<tr><td>1006</td><td>65000</td><td>48555</td></tr>",
                            "<tr><td>1007</td><td>41000</td><td>48555</td></tr>",
                            "<tr><td>1008</td><td>48000</td><td>48555</td></tr>",
                            "<tr><td>1009</td><td>42000</td><td>48555</td></tr>",
                            "</table>"
                        ]
                    }
                }
            ],
            "execution_count": 5
        },
        {
            "cell_type": "code",
            "source": [
                "SELECT *\r\n",
                "FROM (\r\n",
                "    SELECT \r\n",
                "        EmployeeID,\r\n",
                "        JobTitle, \r\n",
                "        Salary, \r\n",
                "        AVG(Salary) OVER(PARTITION BY JobTitle) AS Avg_Salary \r\n",
                "    FROM EmployeeSalary\r\n",
                ") AS SubqueryAlias;"
            ],
            "metadata": {
                "language": "sql",
                "azdata_cell_guid": "ea050c1b-dd67-47dc-a0b9-7a55a9d05d2a",
                "tags": []
            },
            "outputs": [
                {
                    "output_type": "display_data",
                    "data": {
                        "text/html": "(9 rows affected)"
                    },
                    "metadata": {}
                },
                {
                    "output_type": "display_data",
                    "data": {
                        "text/html": "Total execution time: 00:00:00.007"
                    },
                    "metadata": {}
                },
                {
                    "output_type": "execute_result",
                    "metadata": {},
                    "execution_count": 11,
                    "data": {
                        "application/vnd.dataresource+json": {
                            "schema": {
                                "fields": [
                                    {
                                        "name": "EmployeeID"
                                    },
                                    {
                                        "name": "JobTitle"
                                    },
                                    {
                                        "name": "Salary"
                                    },
                                    {
                                        "name": "Avg_Salary"
                                    }
                                ]
                            },
                            "data": [
                                {
                                    "EmployeeID": "1004",
                                    "JobTitle": "Accountant",
                                    "Salary": "47000",
                                    "Avg_Salary": "44500"
                                },
                                {
                                    "EmployeeID": "1009",
                                    "JobTitle": "Accountant",
                                    "Salary": "42000",
                                    "Avg_Salary": "44500"
                                },
                                {
                                    "EmployeeID": "1005",
                                    "JobTitle": "HR",
                                    "Salary": "50000",
                                    "Avg_Salary": "50000"
                                },
                                {
                                    "EmployeeID": "1002",
                                    "JobTitle": "Receptionist",
                                    "Salary": "36000",
                                    "Avg_Salary": "36000"
                                },
                                {
                                    "EmployeeID": "1006",
                                    "JobTitle": "Regional Manager",
                                    "Salary": "65000",
                                    "Avg_Salary": "65000"
                                },
                                {
                                    "EmployeeID": "1003",
                                    "JobTitle": "Salesman",
                                    "Salary": "63000",
                                    "Avg_Salary": "52000"
                                },
                                {
                                    "EmployeeID": "1001",
                                    "JobTitle": "Salesman",
                                    "Salary": "45000",
                                    "Avg_Salary": "52000"
                                },
                                {
                                    "EmployeeID": "1008",
                                    "JobTitle": "Salesman",
                                    "Salary": "48000",
                                    "Avg_Salary": "52000"
                                },
                                {
                                    "EmployeeID": "1007",
                                    "JobTitle": "Supplier Relations",
                                    "Salary": "41000",
                                    "Avg_Salary": "41000"
                                }
                            ]
                        },
                        "text/html": [
                            "<table>",
                            "<tr><th>EmployeeID</th><th>JobTitle</th><th>Salary</th><th>Avg_Salary</th></tr>",
                            "<tr><td>1004</td><td>Accountant</td><td>47000</td><td>44500</td></tr>",
                            "<tr><td>1009</td><td>Accountant</td><td>42000</td><td>44500</td></tr>",
                            "<tr><td>1005</td><td>HR</td><td>50000</td><td>50000</td></tr>",
                            "<tr><td>1002</td><td>Receptionist</td><td>36000</td><td>36000</td></tr>",
                            "<tr><td>1006</td><td>Regional Manager</td><td>65000</td><td>65000</td></tr>",
                            "<tr><td>1003</td><td>Salesman</td><td>63000</td><td>52000</td></tr>",
                            "<tr><td>1001</td><td>Salesman</td><td>45000</td><td>52000</td></tr>",
                            "<tr><td>1008</td><td>Salesman</td><td>48000</td><td>52000</td></tr>",
                            "<tr><td>1007</td><td>Supplier Relations</td><td>41000</td><td>41000</td></tr>",
                            "</table>"
                        ]
                    }
                }
            ],
            "execution_count": 11
        },
        {
            "cell_type": "code",
            "source": [
                "SELECT *\r\n",
                "FROM EmployeeSalary\r\n",
                "WHERE EmployeeID IN\r\n",
                "                (\r\n",
                "                    SELECT EmployeeID\r\n",
                "                    FROM EmployeeDemographics\r\n",
                "                    WHERE Age > 30\r\n",
                "                )"
            ],
            "metadata": {
                "language": "sql",
                "azdata_cell_guid": "8507e983-36ad-49d6-a1d6-3852ae820ddd"
            },
            "outputs": [
                {
                    "output_type": "display_data",
                    "data": {
                        "text/html": "(6 rows affected)"
                    },
                    "metadata": {}
                },
                {
                    "output_type": "display_data",
                    "data": {
                        "text/html": "Total execution time: 00:00:00.008"
                    },
                    "metadata": {}
                },
                {
                    "output_type": "execute_result",
                    "metadata": {},
                    "execution_count": 15,
                    "data": {
                        "application/vnd.dataresource+json": {
                            "schema": {
                                "fields": [
                                    {
                                        "name": "EmployeeID"
                                    },
                                    {
                                        "name": "JobTitle"
                                    },
                                    {
                                        "name": "Salary"
                                    }
                                ]
                            },
                            "data": [
                                {
                                    "EmployeeID": "1004",
                                    "JobTitle": "Accountant",
                                    "Salary": "47000"
                                },
                                {
                                    "EmployeeID": "1005",
                                    "JobTitle": "HR",
                                    "Salary": "50000"
                                },
                                {
                                    "EmployeeID": "1006",
                                    "JobTitle": "Regional Manager",
                                    "Salary": "65000"
                                },
                                {
                                    "EmployeeID": "1007",
                                    "JobTitle": "Supplier Relations",
                                    "Salary": "41000"
                                },
                                {
                                    "EmployeeID": "1008",
                                    "JobTitle": "Salesman",
                                    "Salary": "48000"
                                },
                                {
                                    "EmployeeID": "1009",
                                    "JobTitle": "Accountant",
                                    "Salary": "42000"
                                }
                            ]
                        },
                        "text/html": [
                            "<table>",
                            "<tr><th>EmployeeID</th><th>JobTitle</th><th>Salary</th></tr>",
                            "<tr><td>1004</td><td>Accountant</td><td>47000</td></tr>",
                            "<tr><td>1005</td><td>HR</td><td>50000</td></tr>",
                            "<tr><td>1006</td><td>Regional Manager</td><td>65000</td></tr>",
                            "<tr><td>1007</td><td>Supplier Relations</td><td>41000</td></tr>",
                            "<tr><td>1008</td><td>Salesman</td><td>48000</td></tr>",
                            "<tr><td>1009</td><td>Accountant</td><td>42000</td></tr>",
                            "</table>"
                        ]
                    }
                }
            ],
            "execution_count": 15
        }
    ]
}